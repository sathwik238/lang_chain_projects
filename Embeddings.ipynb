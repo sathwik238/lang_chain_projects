{
 "cells": [
  {
   "cell_type": "code",
   "execution_count": 14,
   "id": "2ec1a3d0-407c-4533-ae16-3a2b1b44f4b2",
   "metadata": {
    "tags": []
   },
   "outputs": [],
   "source": [
    "from langchain_openai import OpenAIEmbeddings\n",
    "from langchain_huggingface import HuggingFaceEmbeddings\n",
    "from dotenv import load_dotenv\n",
    "\n",
    "load_dotenv(\"EnvVars.txt\")\n",
    "\n",
    "import os"
   ]
  },
  {
   "cell_type": "markdown",
   "id": "fb0387bd-540b-4137-84ce-a1caa054395e",
   "metadata": {},
   "source": [
    "# Embedding a line"
   ]
  },
  {
   "cell_type": "code",
   "execution_count": 5,
   "id": "03cf4769-5907-48bc-8c65-56d869a0865b",
   "metadata": {
    "tags": []
   },
   "outputs": [],
   "source": [
    "embedding = OpenAIEmbeddings(model = 'text-embedding-3-large', dimensions =32)"
   ]
  },
  {
   "cell_type": "code",
   "execution_count": 6,
   "id": "2c3f8e35-378d-43d7-9a19-dd54ba354a3f",
   "metadata": {
    "tags": []
   },
   "outputs": [],
   "source": [
    "result = embedding.embed_query('Who is virat kohli?')"
   ]
  },
  {
   "cell_type": "code",
   "execution_count": 7,
   "id": "623d9ddb-1cb4-47e1-b015-3eca2718e5c4",
   "metadata": {
    "tags": []
   },
   "outputs": [
    {
     "name": "stdout",
     "output_type": "stream",
     "text": [
      "[-0.1938759833574295, -0.09180420637130737, -0.019062962383031845, 0.25548145174980164, -0.08646909147500992, -0.06417234987020493, -0.006964587140828371, -0.18753424286842346, -0.22024956345558167, 0.06502797454595566, 0.03817625343799591, 0.1206943467259407, 0.0929114893078804, -0.20756608247756958, 0.022208664566278458, -0.13176721334457397, -0.28789475560188293, -0.14777255058288574, -0.45378658175468445, -0.09482408314943314, -0.2190416157245636, -0.04632991924881935, -0.08299623429775238, 0.12733806669712067, 0.19327200949192047, 0.0625617504119873, 0.3382260203361511, -0.13065993785858154, -0.08933797478675842, -0.25004565715789795, 0.19266803562641144, 0.1731395125389099]\n"
     ]
    }
   ],
   "source": [
    "print(str(result))"
   ]
  },
  {
   "cell_type": "code",
   "execution_count": null,
   "id": "6b428e4e-860a-4556-ad42-64507f4ba159",
   "metadata": {},
   "outputs": [],
   "source": []
  },
  {
   "cell_type": "markdown",
   "id": "99555090-b393-4304-88f0-1d7c52efa41a",
   "metadata": {},
   "source": [
    "# Embedding a document"
   ]
  },
  {
   "cell_type": "code",
   "execution_count": 8,
   "id": "95c8064f-3d37-4c48-97c7-bd846a5b6413",
   "metadata": {
    "tags": []
   },
   "outputs": [],
   "source": [
    "document = ['whay re you gay?', 'Who says i am gay?', 'You are a gay', ' Come on man WTF', 'hello, there im satheik, Im not whatsapp']"
   ]
  },
  {
   "cell_type": "code",
   "execution_count": 9,
   "id": "86b96250-ca2a-42e6-8b62-2458ae3288d4",
   "metadata": {
    "tags": []
   },
   "outputs": [],
   "source": [
    "result = embedding.embed_documents(document)"
   ]
  },
  {
   "cell_type": "code",
   "execution_count": 13,
   "id": "32670843-050b-45c9-a2c0-a7a9a80d8188",
   "metadata": {
    "tags": []
   },
   "outputs": [
    {
     "name": "stdout",
     "output_type": "stream",
     "text": [
      "[[-0.018800225108861923, 0.0806259885430336, -0.059271931648254395, 0.10267260670661926, 0.2957248091697693, -0.19911213219165802, 0.02086348831653595, 0.09516982734203339, -0.08368480950593948, 0.09470812231302261, -0.05875250697135925, -0.001696240622550249, 0.19922755658626556, 0.4210788905620575, 0.18999338150024414, 0.2652519941329956, -0.07554718106985092, -0.14255274832248688, -0.1669079065322876, 0.038091015070676804, 0.2687148153781891, 0.03543618693947792, -0.031857941299676895, -0.1366659551858902, 0.2384728491306305, -0.02086348831653595, 0.017746951431035995, -0.028193123638629913, -0.3255050480365753, -0.2620200216770172, 0.31211549043655396, 0.14382244646549225], [0.08250880986452103, 0.16411341726779938, -0.19858627021312714, 0.07448398321866989, 0.12568464875221252, -0.1776764988899231, 0.2554382383823395, -0.18637949228286743, 0.0670807957649231, -0.009557741694152355, -0.07843988388776779, -0.11856403201818466, 0.2168964445590973, 0.3910691440105438, -0.1823105663061142, 0.2726181447505951, -0.20864556729793549, -0.028199929744005203, -0.1852492392063141, 0.18604041635990143, -0.03204280510544777, 0.1859273910522461, 0.04990087449550629, -0.10986104607582092, 0.11980731040239334, -0.020542433485388756, 0.1302056908607483, -0.10601817071437836, -0.41096168756484985, -0.23893646895885468, 0.0827348604798317, -0.04877061769366264], [0.06588203459978104, 0.16606532037258148, -0.022488011047244072, 0.08746816217899323, 0.17517288029193878, -0.06398955732584, -0.1622803509235382, -0.08871009945869446, 0.010275586508214474, -0.1407533586025238, -0.04831743612885475, 0.1899579018354416, 0.04190073907375336, 0.18912993371486664, -0.09344130754470825, 0.14560285210609436, -0.0959843322634697, -0.28434544801712036, -0.5644327998161316, 0.14158132672309875, 0.06724225729703903, -0.23632371425628662, 0.1717427521944046, -0.029717884957790375, 0.2670765519142151, 0.0373765230178833, 0.046484094113111496, -0.06783366203308105, -0.3370983898639679, -0.051570139825344086, 0.21775373816490173, 0.05003249645233154], [-0.0394388772547245, 0.07129211723804474, 0.009184726513922215, -0.04239599034190178, -0.2455688863992691, 0.18076954782009125, 0.15634123980998993, 0.14875559508800507, -0.1466984748840332, 0.07277067750692368, 0.15274126827716827, 0.15466982126235962, -0.26948291063308716, 0.1297915130853653, 0.026549724861979485, -0.023592611774802208, -0.4047386646270752, -0.0006282859249040484, 0.020185505971312523, -0.17781244218349457, -0.38956740498542786, 0.030230043455958366, -0.08099915832281113, 0.19889794290065765, 0.12368442863225937, -0.26485440135002136, -0.07592064142227173, 0.22139769792556763, -0.1648268699645996, 0.08414912968873978, 0.05300302058458328, 0.33942505717277527], [-0.14173853397369385, -0.1438850462436676, -0.05895962938666344, 0.05293557047843933, 0.1959550827741623, 0.005284036044031382, 0.01859149895608425, 0.0611407570540905, -0.17352065443992615, 0.3032803237438202, 0.19027723371982574, -0.3811084032058716, -0.2739216685295105, 0.09160727262496948, 0.05989439785480499, -0.05518593639135361, -0.02792186848819256, -0.1570410430431366, -0.02212284505367279, 0.04386485740542412, -0.24290122091770172, -0.15385590493679047, -0.15136319398880005, 0.021291939541697502, 0.055047452449798584, -0.0947231650352478, 0.2888779640197754, -0.1887539029121399, -0.19290843605995178, -0.3913562297821045, 0.23653094470500946, -0.074365995824337]]\n"
     ]
    }
   ],
   "source": [
    "print(str(result))"
   ]
  },
  {
   "cell_type": "code",
   "execution_count": null,
   "id": "d697ff31-b26a-49ed-a613-5443ee33b3a6",
   "metadata": {},
   "outputs": [],
   "source": []
  },
  {
   "cell_type": "markdown",
   "id": "eab7eebf-20a5-4998-8df3-3ea9dd59531f",
   "metadata": {},
   "source": [
    "# Using Open Sourcce model"
   ]
  },
  {
   "cell_type": "code",
   "execution_count": 21,
   "id": "6e0708cb-22a3-4e27-b444-c3fc1cf201aa",
   "metadata": {
    "tags": []
   },
   "outputs": [
    {
     "data": {
      "application/vnd.jupyter.widget-view+json": {
       "model_id": "bc41834f70b04c9c985b7fa49479920e",
       "version_major": 2,
       "version_minor": 0
      },
      "text/plain": [
       "modules.json:   0%|          | 0.00/349 [00:00<?, ?B/s]"
      ]
     },
     "metadata": {},
     "output_type": "display_data"
    },
    {
     "data": {
      "application/vnd.jupyter.widget-view+json": {
       "model_id": "cf9665f21aca44e89fb8a11c1d7cdb7d",
       "version_major": 2,
       "version_minor": 0
      },
      "text/plain": [
       "config_sentence_transformers.json:   0%|          | 0.00/116 [00:00<?, ?B/s]"
      ]
     },
     "metadata": {},
     "output_type": "display_data"
    },
    {
     "data": {
      "application/vnd.jupyter.widget-view+json": {
       "model_id": "97f0fa094bee45babfd43615444e2212",
       "version_major": 2,
       "version_minor": 0
      },
      "text/plain": [
       "README.md:   0%|          | 0.00/10.7k [00:00<?, ?B/s]"
      ]
     },
     "metadata": {},
     "output_type": "display_data"
    },
    {
     "data": {
      "application/vnd.jupyter.widget-view+json": {
       "model_id": "b9bb9adc55824a05b9d1f7589b5838f3",
       "version_major": 2,
       "version_minor": 0
      },
      "text/plain": [
       "sentence_bert_config.json:   0%|          | 0.00/53.0 [00:00<?, ?B/s]"
      ]
     },
     "metadata": {},
     "output_type": "display_data"
    },
    {
     "data": {
      "application/vnd.jupyter.widget-view+json": {
       "model_id": "d3e12a2b73ff42cbb499b5072236c4d9",
       "version_major": 2,
       "version_minor": 0
      },
      "text/plain": [
       "config.json:   0%|          | 0.00/612 [00:00<?, ?B/s]"
      ]
     },
     "metadata": {},
     "output_type": "display_data"
    },
    {
     "data": {
      "application/vnd.jupyter.widget-view+json": {
       "model_id": "286b4979f639446da886599f88f8095a",
       "version_major": 2,
       "version_minor": 0
      },
      "text/plain": [
       "model.safetensors:   0%|          | 0.00/90.9M [00:00<?, ?B/s]"
      ]
     },
     "metadata": {},
     "output_type": "display_data"
    },
    {
     "data": {
      "application/vnd.jupyter.widget-view+json": {
       "model_id": "3128ad15a6674a27a90d20f20c9d618c",
       "version_major": 2,
       "version_minor": 0
      },
      "text/plain": [
       "tokenizer_config.json:   0%|          | 0.00/350 [00:00<?, ?B/s]"
      ]
     },
     "metadata": {},
     "output_type": "display_data"
    },
    {
     "data": {
      "application/vnd.jupyter.widget-view+json": {
       "model_id": "bef11666f51442039dfe326cdaf7c370",
       "version_major": 2,
       "version_minor": 0
      },
      "text/plain": [
       "vocab.txt:   0%|          | 0.00/232k [00:00<?, ?B/s]"
      ]
     },
     "metadata": {},
     "output_type": "display_data"
    },
    {
     "data": {
      "application/vnd.jupyter.widget-view+json": {
       "model_id": "64aa962a144b40b99f104c52763471d7",
       "version_major": 2,
       "version_minor": 0
      },
      "text/plain": [
       "tokenizer.json:   0%|          | 0.00/466k [00:00<?, ?B/s]"
      ]
     },
     "metadata": {},
     "output_type": "display_data"
    },
    {
     "data": {
      "application/vnd.jupyter.widget-view+json": {
       "model_id": "c5220dc68d884934837de984d98b54a2",
       "version_major": 2,
       "version_minor": 0
      },
      "text/plain": [
       "special_tokens_map.json:   0%|          | 0.00/112 [00:00<?, ?B/s]"
      ]
     },
     "metadata": {},
     "output_type": "display_data"
    },
    {
     "data": {
      "application/vnd.jupyter.widget-view+json": {
       "model_id": "18b8126e0a5447438bc6d8f28abd6865",
       "version_major": 2,
       "version_minor": 0
      },
      "text/plain": [
       "1_Pooling%2Fconfig.json:   0%|          | 0.00/190 [00:00<?, ?B/s]"
      ]
     },
     "metadata": {},
     "output_type": "display_data"
    }
   ],
   "source": [
    "embedding = HuggingFaceEmbeddings(model_name = 'sentence-transformers/all-MiniLM-L6-v2')"
   ]
  },
  {
   "cell_type": "code",
   "execution_count": 22,
   "id": "8ede4a89-aaf4-461c-a9b5-d2f16f78f145",
   "metadata": {
    "tags": []
   },
   "outputs": [],
   "source": [
    "vector = embedding.embed_query('who is virat kohli?')"
   ]
  },
  {
   "cell_type": "code",
   "execution_count": 23,
   "id": "f2ac02bd-b85c-448b-827d-e2edc516aa09",
   "metadata": {
    "tags": []
   },
   "outputs": [
    {
     "name": "stdout",
     "output_type": "stream",
     "text": [
      "[0.010386018082499504, 0.10524366050958633, -0.09864561259746552, 0.0012265346013009548, 0.03674163669347763, 0.07606670260429382, 0.08091039210557938, 0.03303522616624832, 0.009973142296075821, 0.0012230942957103252, -0.002087013330310583, -0.12031293660402298, 0.01847163215279579, 0.07462652027606964, 0.050881046801805496, 0.022098159417510033, 0.02148873172700405, 0.07879942655563354, -0.0026382948271930218, -0.02537538856267929, -0.05458150804042816, 0.06765256077051163, 0.017663804814219475, -0.01563533954322338, 0.014685413800179958, -0.03154640272259712, -0.03820578008890152, 0.053742535412311554, 0.0021572408732026815, -0.01147947646677494, 0.019940488040447235, -0.0009006496984511614, -0.0628434270620346, 0.09280700981616974, -0.028416600078344345, -0.021653423085808754, -0.029742147773504257, 0.13071659207344055, 0.07003700733184814, -0.0395980142056942, -0.026815352961421013, -0.04410327225923538, -0.021079467609524727, 0.06182675436139107, 0.05492722988128662, 0.010050513781607151, -0.012305405922234058, 0.02009100653231144, -0.01911243610084057, 0.016156598925590515, -0.09033597260713577, -0.02415560930967331, 0.07343962788581848, -0.051923345774412155, 0.10251066088676453, -0.024039514362812042, -0.054383743554353714, -0.05814239755272865, 0.0650874450802803, 0.01896625943481922, 0.0783122330904007, 0.007886000908911228, -0.05013135075569153, -0.0020309938117861748, 0.01071210764348507, -0.11949261277914047, 0.03279521316289902, -0.017390023916959763, 0.06063238903880119, -0.02324696257710457, 0.016741113737225533, -0.012273235246539116, 0.018122350797057152, -0.027884522452950478, 0.0021987000945955515, -0.03857985511422157, -0.029645627364516258, 0.09845650941133499, -0.015327312052249908, 0.024653881788253784, 0.053565721958875656, -0.09574466943740845, -0.03417178615927696, 0.06877455860376358, 0.003920305985957384, -0.0632183700799942, 0.04889529198408127, -0.02262919954955578, -0.028032099828124046, -0.010000749491155148, -0.008662514388561249, 0.09478554874658585, 0.02726437710225582, 0.009413671679794788, -0.04988808557391167, 0.011642365716397762, -0.006459048483520746, -0.0019727747421711683, -0.07779247313737869, 0.12433996796607971, -0.07234501093626022, -0.0613681934773922, 0.012128724716603756, 0.08982983231544495, -0.0424797423183918, -0.0349818654358387, 0.010706381872296333, 0.09922877699136734, -0.050043340772390366, -0.015838051214814186, -0.04841645807027817, -0.014378760010004044, -0.03406212106347084, -0.02115011028945446, 0.07244331389665604, 0.004980838857591152, -0.036114346235990524, 0.04073069989681244, -0.02190684899687767, -0.001694495091214776, 0.06195705384016037, 0.05588989704847336, -0.010933537036180496, 0.004196841269731522, -0.06444357335567474, -0.006390742026269436, 0.018836691975593567, -3.1116117904693216e-33, 0.05820935592055321, -0.0004259607521817088, 0.06505468487739563, 0.024735230952501297, -0.05024358257651329, 0.019512945786118507, 0.01584920473396778, 0.008104735054075718, -0.05934838578104973, -0.09160174429416656, -0.03274755924940109, -0.09311290085315704, 0.02743448130786419, 0.021786347031593323, 0.005693110171705484, 0.05967065319418907, -0.09121312201023102, -0.020592929795384407, 0.009918834082782269, 0.005821775179356337, 0.004743009340018034, -0.008373822085559368, 0.07329368591308594, 0.06514700502157211, -0.04551030322909355, 0.011645684950053692, 0.09712444245815277, -0.09182380884885788, 0.01174888014793396, 0.04813258349895477, 0.05539806932210922, 0.044025082141160965, -0.03143556788563728, -0.01692279428243637, -0.01729331724345684, 0.029666081070899963, -0.07270535826683044, -0.0801275447010994, -0.03146275132894516, -0.00018954275583382696, 0.0520409531891346, 0.013514626771211624, -0.0375802256166935, -0.07076696306467056, -0.08997096121311188, 0.01450601126998663, -0.07548555731773376, 0.10470825433731079, 0.011238469742238522, 0.015504123643040657, 0.024862123653292656, -0.007138803135603666, -0.055468443781137466, -0.023328125476837158, -0.036520443856716156, 0.05274595692753792, 0.049413543194532394, 0.04320097342133522, 0.02204815298318863, -0.005011269357055426, -0.1270706206560135, -0.02041545696556568, -0.10281092673540115, 0.06462009996175766, -0.04444516450166702, -0.05092848092317581, -0.027705039829015732, -0.10038932412862778, -0.003937600180506706, -0.07348690927028656, -0.002994633512571454, 0.06694136559963226, -0.0196470208466053, -0.007736057974398136, -0.0920080915093422, -0.04915192723274231, -0.05756450816988945, -0.031040672212839127, -0.025956494733691216, 0.03778580576181412, -0.061247993260622025, 0.08499062806367874, 0.06789755076169968, -0.1188635304570198, -0.060508549213409424, -0.06940551847219467, -0.05778423324227333, 0.015821048989892006, 0.01483005378395319, 0.019811371341347694, -0.008949476294219494, -0.03763977065682411, 0.06590155512094498, -0.09983450919389725, -0.04878440871834755, 1.1936049535131165e-33, -0.008147039450705051, 0.013814257457852364, -0.008085047826170921, 0.0963280200958252, 0.08745633065700531, 0.03977471962571144, -0.006413377355784178, 0.08285672217607498, 0.02446717396378517, -0.0023563539143651724, 0.06746838241815567, 0.01928405463695526, 0.055489927530288696, 0.01367944199591875, 0.04274158924818039, 0.022035500034689903, 0.022243425250053406, -0.005192785058170557, 0.024716878309845924, 0.005740070249885321, -0.016837378963828087, -0.019188331440091133, 0.01011274941265583, -0.015318917110562325, -0.08000648766756058, 0.009149085730314255, 0.039873767644166946, 0.03131561726331711, -0.07613156735897064, 0.040684767067432404, 0.060794729739427567, -0.0001957087079063058, -0.033617451786994934, 0.02379261702299118, 0.028087954968214035, 0.10598540306091309, -0.06283524632453918, 0.01499455887824297, 0.05920977517962456, 0.12948736548423767, -0.05255147069692612, 0.06834439188241959, -0.03280371427536011, -0.02478979341685772, 0.03730829432606697, 0.009475837461650372, 0.038589879870414734, 0.09569830447435379, -0.010835971683263779, -0.07000336050987244, 0.005116510204970837, 0.06426935642957687, -0.031193755567073822, -0.04136616736650467, 0.06812267750501633, 0.00016082760703284293, -0.11177460849285126, -0.008454293012619019, 0.04468623921275139, -0.030553938820958138, 0.04388904199004173, -0.014287013560533524, 0.021752068772912025, 0.0009612338035367429, -0.024348722770810127, 0.03775613009929657, 0.004160040523856878, -0.009110845625400543, 0.008212815970182419, -0.12306518107652664, 0.03371402621269226, -0.0449642688035965, -0.037969063967466354, -0.03462626785039902, -0.036670152097940445, -0.0029242117889225483, -0.05611873418092728, 0.09646521508693695, -0.020254967734217644, 0.010399040766060352, -0.04429430887103081, -0.02110280469059944, 0.004349673166871071, -0.014868167228996754, -0.010466366074979305, -0.027657117694616318, 0.002702206140384078, -0.02466842159628868, 0.11040856689214706, -0.011030585505068302, -0.019813474267721176, -0.023734986782073975, 0.013720501214265823, -0.055526986718177795, 0.09908163547515869, -1.4120939084705242e-08, 0.034672901034355164, 0.00870632752776146, -0.030554400756955147, -0.03493015840649605, 0.03401452675461769, 0.04846692830324173, -0.00970456376671791, 0.0039005540311336517, 0.09428302198648453, 0.002380599733442068, 0.04262842237949371, -0.04957566782832146, 0.011750813573598862, -0.014849298633635044, 0.043199323117733, -0.020016653463244438, -0.015383966267108917, 0.07172583788633347, -0.0568414181470871, 0.06254170835018158, 0.019889310002326965, -0.021743478253483772, 0.042331524193286896, -0.03623154014348984, 0.003663624171167612, 0.021666156128048897, -0.03194098547101021, -0.01747807487845421, -0.003694199724122882, 0.056606683880090714, 0.05047151446342468, 0.07652781158685684, -0.015407885424792767, -0.07025596499443054, -0.12456798553466797, 0.05224531888961792, 0.11244754493236542, -0.00570713309571147, 0.016752686351537704, 0.039443474262952805, -0.00833211001008749, 0.022417431697249413, -0.06721825897693634, 0.01779506728053093, -0.002650404116138816, 0.02432517521083355, -0.001175063312985003, -0.03573813661932945, -0.07690835744142532, -0.07952779531478882, -0.10826996713876724, 0.060591261833906174, 0.015948370099067688, 0.07032781839370728, -0.0450783409178257, -0.026421833783388138, -0.05693553760647774, -0.07228771597146988, -0.08092408627271652, -0.09398429840803146, 0.012378357350826263, -0.02828233316540718, 0.09366943687200546, -0.011168304830789566]\n"
     ]
    }
   ],
   "source": [
    "print(str(vector))"
   ]
  },
  {
   "cell_type": "code",
   "execution_count": 25,
   "id": "638d84b2-f383-406e-ba74-91a2df6b0ace",
   "metadata": {
    "tags": []
   },
   "outputs": [],
   "source": [
    "vector_doc = embedding.embed_documents(document)"
   ]
  },
  {
   "cell_type": "code",
   "execution_count": 29,
   "id": "fb00c617-70ff-4eb7-bb54-466a1ae053f2",
   "metadata": {
    "tags": []
   },
   "outputs": [
    {
     "data": {
      "text/plain": [
       "5"
      ]
     },
     "execution_count": 29,
     "metadata": {},
     "output_type": "execute_result"
    }
   ],
   "source": [
    "len(vector_doc)"
   ]
  },
  {
   "cell_type": "code",
   "execution_count": null,
   "id": "3c473ac6-278f-4cd6-be17-15fae874322e",
   "metadata": {},
   "outputs": [],
   "source": []
  }
 ],
 "metadata": {
  "availableInstances": [
   {
    "_defaultOrder": 0,
    "_isFastLaunch": true,
    "category": "General purpose",
    "gpuNum": 0,
    "hideHardwareSpecs": false,
    "memoryGiB": 4,
    "name": "ml.t3.medium",
    "vcpuNum": 2
   },
   {
    "_defaultOrder": 1,
    "_isFastLaunch": false,
    "category": "General purpose",
    "gpuNum": 0,
    "hideHardwareSpecs": false,
    "memoryGiB": 8,
    "name": "ml.t3.large",
    "vcpuNum": 2
   },
   {
    "_defaultOrder": 2,
    "_isFastLaunch": false,
    "category": "General purpose",
    "gpuNum": 0,
    "hideHardwareSpecs": false,
    "memoryGiB": 16,
    "name": "ml.t3.xlarge",
    "vcpuNum": 4
   },
   {
    "_defaultOrder": 3,
    "_isFastLaunch": false,
    "category": "General purpose",
    "gpuNum": 0,
    "hideHardwareSpecs": false,
    "memoryGiB": 32,
    "name": "ml.t3.2xlarge",
    "vcpuNum": 8
   },
   {
    "_defaultOrder": 4,
    "_isFastLaunch": true,
    "category": "General purpose",
    "gpuNum": 0,
    "hideHardwareSpecs": false,
    "memoryGiB": 8,
    "name": "ml.m5.large",
    "vcpuNum": 2
   },
   {
    "_defaultOrder": 5,
    "_isFastLaunch": false,
    "category": "General purpose",
    "gpuNum": 0,
    "hideHardwareSpecs": false,
    "memoryGiB": 16,
    "name": "ml.m5.xlarge",
    "vcpuNum": 4
   },
   {
    "_defaultOrder": 6,
    "_isFastLaunch": false,
    "category": "General purpose",
    "gpuNum": 0,
    "hideHardwareSpecs": false,
    "memoryGiB": 32,
    "name": "ml.m5.2xlarge",
    "vcpuNum": 8
   },
   {
    "_defaultOrder": 7,
    "_isFastLaunch": false,
    "category": "General purpose",
    "gpuNum": 0,
    "hideHardwareSpecs": false,
    "memoryGiB": 64,
    "name": "ml.m5.4xlarge",
    "vcpuNum": 16
   },
   {
    "_defaultOrder": 8,
    "_isFastLaunch": false,
    "category": "General purpose",
    "gpuNum": 0,
    "hideHardwareSpecs": false,
    "memoryGiB": 128,
    "name": "ml.m5.8xlarge",
    "vcpuNum": 32
   },
   {
    "_defaultOrder": 9,
    "_isFastLaunch": false,
    "category": "General purpose",
    "gpuNum": 0,
    "hideHardwareSpecs": false,
    "memoryGiB": 192,
    "name": "ml.m5.12xlarge",
    "vcpuNum": 48
   },
   {
    "_defaultOrder": 10,
    "_isFastLaunch": false,
    "category": "General purpose",
    "gpuNum": 0,
    "hideHardwareSpecs": false,
    "memoryGiB": 256,
    "name": "ml.m5.16xlarge",
    "vcpuNum": 64
   },
   {
    "_defaultOrder": 11,
    "_isFastLaunch": false,
    "category": "General purpose",
    "gpuNum": 0,
    "hideHardwareSpecs": false,
    "memoryGiB": 384,
    "name": "ml.m5.24xlarge",
    "vcpuNum": 96
   },
   {
    "_defaultOrder": 12,
    "_isFastLaunch": false,
    "category": "General purpose",
    "gpuNum": 0,
    "hideHardwareSpecs": false,
    "memoryGiB": 8,
    "name": "ml.m5d.large",
    "vcpuNum": 2
   },
   {
    "_defaultOrder": 13,
    "_isFastLaunch": false,
    "category": "General purpose",
    "gpuNum": 0,
    "hideHardwareSpecs": false,
    "memoryGiB": 16,
    "name": "ml.m5d.xlarge",
    "vcpuNum": 4
   },
   {
    "_defaultOrder": 14,
    "_isFastLaunch": false,
    "category": "General purpose",
    "gpuNum": 0,
    "hideHardwareSpecs": false,
    "memoryGiB": 32,
    "name": "ml.m5d.2xlarge",
    "vcpuNum": 8
   },
   {
    "_defaultOrder": 15,
    "_isFastLaunch": false,
    "category": "General purpose",
    "gpuNum": 0,
    "hideHardwareSpecs": false,
    "memoryGiB": 64,
    "name": "ml.m5d.4xlarge",
    "vcpuNum": 16
   },
   {
    "_defaultOrder": 16,
    "_isFastLaunch": false,
    "category": "General purpose",
    "gpuNum": 0,
    "hideHardwareSpecs": false,
    "memoryGiB": 128,
    "name": "ml.m5d.8xlarge",
    "vcpuNum": 32
   },
   {
    "_defaultOrder": 17,
    "_isFastLaunch": false,
    "category": "General purpose",
    "gpuNum": 0,
    "hideHardwareSpecs": false,
    "memoryGiB": 192,
    "name": "ml.m5d.12xlarge",
    "vcpuNum": 48
   },
   {
    "_defaultOrder": 18,
    "_isFastLaunch": false,
    "category": "General purpose",
    "gpuNum": 0,
    "hideHardwareSpecs": false,
    "memoryGiB": 256,
    "name": "ml.m5d.16xlarge",
    "vcpuNum": 64
   },
   {
    "_defaultOrder": 19,
    "_isFastLaunch": false,
    "category": "General purpose",
    "gpuNum": 0,
    "hideHardwareSpecs": false,
    "memoryGiB": 384,
    "name": "ml.m5d.24xlarge",
    "vcpuNum": 96
   },
   {
    "_defaultOrder": 20,
    "_isFastLaunch": false,
    "category": "General purpose",
    "gpuNum": 0,
    "hideHardwareSpecs": true,
    "memoryGiB": 0,
    "name": "ml.geospatial.interactive",
    "supportedImageNames": [
     "sagemaker-geospatial-v1-0"
    ],
    "vcpuNum": 0
   },
   {
    "_defaultOrder": 21,
    "_isFastLaunch": true,
    "category": "Compute optimized",
    "gpuNum": 0,
    "hideHardwareSpecs": false,
    "memoryGiB": 4,
    "name": "ml.c5.large",
    "vcpuNum": 2
   },
   {
    "_defaultOrder": 22,
    "_isFastLaunch": false,
    "category": "Compute optimized",
    "gpuNum": 0,
    "hideHardwareSpecs": false,
    "memoryGiB": 8,
    "name": "ml.c5.xlarge",
    "vcpuNum": 4
   },
   {
    "_defaultOrder": 23,
    "_isFastLaunch": false,
    "category": "Compute optimized",
    "gpuNum": 0,
    "hideHardwareSpecs": false,
    "memoryGiB": 16,
    "name": "ml.c5.2xlarge",
    "vcpuNum": 8
   },
   {
    "_defaultOrder": 24,
    "_isFastLaunch": false,
    "category": "Compute optimized",
    "gpuNum": 0,
    "hideHardwareSpecs": false,
    "memoryGiB": 32,
    "name": "ml.c5.4xlarge",
    "vcpuNum": 16
   },
   {
    "_defaultOrder": 25,
    "_isFastLaunch": false,
    "category": "Compute optimized",
    "gpuNum": 0,
    "hideHardwareSpecs": false,
    "memoryGiB": 72,
    "name": "ml.c5.9xlarge",
    "vcpuNum": 36
   },
   {
    "_defaultOrder": 26,
    "_isFastLaunch": false,
    "category": "Compute optimized",
    "gpuNum": 0,
    "hideHardwareSpecs": false,
    "memoryGiB": 96,
    "name": "ml.c5.12xlarge",
    "vcpuNum": 48
   },
   {
    "_defaultOrder": 27,
    "_isFastLaunch": false,
    "category": "Compute optimized",
    "gpuNum": 0,
    "hideHardwareSpecs": false,
    "memoryGiB": 144,
    "name": "ml.c5.18xlarge",
    "vcpuNum": 72
   },
   {
    "_defaultOrder": 28,
    "_isFastLaunch": false,
    "category": "Compute optimized",
    "gpuNum": 0,
    "hideHardwareSpecs": false,
    "memoryGiB": 192,
    "name": "ml.c5.24xlarge",
    "vcpuNum": 96
   },
   {
    "_defaultOrder": 29,
    "_isFastLaunch": true,
    "category": "Accelerated computing",
    "gpuNum": 1,
    "hideHardwareSpecs": false,
    "memoryGiB": 16,
    "name": "ml.g4dn.xlarge",
    "vcpuNum": 4
   },
   {
    "_defaultOrder": 30,
    "_isFastLaunch": false,
    "category": "Accelerated computing",
    "gpuNum": 1,
    "hideHardwareSpecs": false,
    "memoryGiB": 32,
    "name": "ml.g4dn.2xlarge",
    "vcpuNum": 8
   },
   {
    "_defaultOrder": 31,
    "_isFastLaunch": false,
    "category": "Accelerated computing",
    "gpuNum": 1,
    "hideHardwareSpecs": false,
    "memoryGiB": 64,
    "name": "ml.g4dn.4xlarge",
    "vcpuNum": 16
   },
   {
    "_defaultOrder": 32,
    "_isFastLaunch": false,
    "category": "Accelerated computing",
    "gpuNum": 1,
    "hideHardwareSpecs": false,
    "memoryGiB": 128,
    "name": "ml.g4dn.8xlarge",
    "vcpuNum": 32
   },
   {
    "_defaultOrder": 33,
    "_isFastLaunch": false,
    "category": "Accelerated computing",
    "gpuNum": 4,
    "hideHardwareSpecs": false,
    "memoryGiB": 192,
    "name": "ml.g4dn.12xlarge",
    "vcpuNum": 48
   },
   {
    "_defaultOrder": 34,
    "_isFastLaunch": false,
    "category": "Accelerated computing",
    "gpuNum": 1,
    "hideHardwareSpecs": false,
    "memoryGiB": 256,
    "name": "ml.g4dn.16xlarge",
    "vcpuNum": 64
   },
   {
    "_defaultOrder": 35,
    "_isFastLaunch": false,
    "category": "Accelerated computing",
    "gpuNum": 1,
    "hideHardwareSpecs": false,
    "memoryGiB": 61,
    "name": "ml.p3.2xlarge",
    "vcpuNum": 8
   },
   {
    "_defaultOrder": 36,
    "_isFastLaunch": false,
    "category": "Accelerated computing",
    "gpuNum": 4,
    "hideHardwareSpecs": false,
    "memoryGiB": 244,
    "name": "ml.p3.8xlarge",
    "vcpuNum": 32
   },
   {
    "_defaultOrder": 37,
    "_isFastLaunch": false,
    "category": "Accelerated computing",
    "gpuNum": 8,
    "hideHardwareSpecs": false,
    "memoryGiB": 488,
    "name": "ml.p3.16xlarge",
    "vcpuNum": 64
   },
   {
    "_defaultOrder": 38,
    "_isFastLaunch": false,
    "category": "Accelerated computing",
    "gpuNum": 8,
    "hideHardwareSpecs": false,
    "memoryGiB": 768,
    "name": "ml.p3dn.24xlarge",
    "vcpuNum": 96
   },
   {
    "_defaultOrder": 39,
    "_isFastLaunch": false,
    "category": "Memory Optimized",
    "gpuNum": 0,
    "hideHardwareSpecs": false,
    "memoryGiB": 16,
    "name": "ml.r5.large",
    "vcpuNum": 2
   },
   {
    "_defaultOrder": 40,
    "_isFastLaunch": false,
    "category": "Memory Optimized",
    "gpuNum": 0,
    "hideHardwareSpecs": false,
    "memoryGiB": 32,
    "name": "ml.r5.xlarge",
    "vcpuNum": 4
   },
   {
    "_defaultOrder": 41,
    "_isFastLaunch": false,
    "category": "Memory Optimized",
    "gpuNum": 0,
    "hideHardwareSpecs": false,
    "memoryGiB": 64,
    "name": "ml.r5.2xlarge",
    "vcpuNum": 8
   },
   {
    "_defaultOrder": 42,
    "_isFastLaunch": false,
    "category": "Memory Optimized",
    "gpuNum": 0,
    "hideHardwareSpecs": false,
    "memoryGiB": 128,
    "name": "ml.r5.4xlarge",
    "vcpuNum": 16
   },
   {
    "_defaultOrder": 43,
    "_isFastLaunch": false,
    "category": "Memory Optimized",
    "gpuNum": 0,
    "hideHardwareSpecs": false,
    "memoryGiB": 256,
    "name": "ml.r5.8xlarge",
    "vcpuNum": 32
   },
   {
    "_defaultOrder": 44,
    "_isFastLaunch": false,
    "category": "Memory Optimized",
    "gpuNum": 0,
    "hideHardwareSpecs": false,
    "memoryGiB": 384,
    "name": "ml.r5.12xlarge",
    "vcpuNum": 48
   },
   {
    "_defaultOrder": 45,
    "_isFastLaunch": false,
    "category": "Memory Optimized",
    "gpuNum": 0,
    "hideHardwareSpecs": false,
    "memoryGiB": 512,
    "name": "ml.r5.16xlarge",
    "vcpuNum": 64
   },
   {
    "_defaultOrder": 46,
    "_isFastLaunch": false,
    "category": "Memory Optimized",
    "gpuNum": 0,
    "hideHardwareSpecs": false,
    "memoryGiB": 768,
    "name": "ml.r5.24xlarge",
    "vcpuNum": 96
   },
   {
    "_defaultOrder": 47,
    "_isFastLaunch": false,
    "category": "Accelerated computing",
    "gpuNum": 1,
    "hideHardwareSpecs": false,
    "memoryGiB": 16,
    "name": "ml.g5.xlarge",
    "vcpuNum": 4
   },
   {
    "_defaultOrder": 48,
    "_isFastLaunch": false,
    "category": "Accelerated computing",
    "gpuNum": 1,
    "hideHardwareSpecs": false,
    "memoryGiB": 32,
    "name": "ml.g5.2xlarge",
    "vcpuNum": 8
   },
   {
    "_defaultOrder": 49,
    "_isFastLaunch": false,
    "category": "Accelerated computing",
    "gpuNum": 1,
    "hideHardwareSpecs": false,
    "memoryGiB": 64,
    "name": "ml.g5.4xlarge",
    "vcpuNum": 16
   },
   {
    "_defaultOrder": 50,
    "_isFastLaunch": false,
    "category": "Accelerated computing",
    "gpuNum": 1,
    "hideHardwareSpecs": false,
    "memoryGiB": 128,
    "name": "ml.g5.8xlarge",
    "vcpuNum": 32
   },
   {
    "_defaultOrder": 51,
    "_isFastLaunch": false,
    "category": "Accelerated computing",
    "gpuNum": 1,
    "hideHardwareSpecs": false,
    "memoryGiB": 256,
    "name": "ml.g5.16xlarge",
    "vcpuNum": 64
   },
   {
    "_defaultOrder": 52,
    "_isFastLaunch": false,
    "category": "Accelerated computing",
    "gpuNum": 4,
    "hideHardwareSpecs": false,
    "memoryGiB": 192,
    "name": "ml.g5.12xlarge",
    "vcpuNum": 48
   },
   {
    "_defaultOrder": 53,
    "_isFastLaunch": false,
    "category": "Accelerated computing",
    "gpuNum": 4,
    "hideHardwareSpecs": false,
    "memoryGiB": 384,
    "name": "ml.g5.24xlarge",
    "vcpuNum": 96
   },
   {
    "_defaultOrder": 54,
    "_isFastLaunch": false,
    "category": "Accelerated computing",
    "gpuNum": 8,
    "hideHardwareSpecs": false,
    "memoryGiB": 768,
    "name": "ml.g5.48xlarge",
    "vcpuNum": 192
   },
   {
    "_defaultOrder": 55,
    "_isFastLaunch": false,
    "category": "Accelerated computing",
    "gpuNum": 8,
    "hideHardwareSpecs": false,
    "memoryGiB": 1152,
    "name": "ml.p4d.24xlarge",
    "vcpuNum": 96
   },
   {
    "_defaultOrder": 56,
    "_isFastLaunch": false,
    "category": "Accelerated computing",
    "gpuNum": 8,
    "hideHardwareSpecs": false,
    "memoryGiB": 1152,
    "name": "ml.p4de.24xlarge",
    "vcpuNum": 96
   },
   {
    "_defaultOrder": 57,
    "_isFastLaunch": false,
    "category": "Accelerated computing",
    "gpuNum": 0,
    "hideHardwareSpecs": false,
    "memoryGiB": 32,
    "name": "ml.trn1.2xlarge",
    "vcpuNum": 8
   },
   {
    "_defaultOrder": 58,
    "_isFastLaunch": false,
    "category": "Accelerated computing",
    "gpuNum": 0,
    "hideHardwareSpecs": false,
    "memoryGiB": 512,
    "name": "ml.trn1.32xlarge",
    "vcpuNum": 128
   },
   {
    "_defaultOrder": 59,
    "_isFastLaunch": false,
    "category": "Accelerated computing",
    "gpuNum": 0,
    "hideHardwareSpecs": false,
    "memoryGiB": 512,
    "name": "ml.trn1n.32xlarge",
    "vcpuNum": 128
   }
  ],
  "instance_type": "ml.t3.medium",
  "kernelspec": {
   "display_name": "Python 3 (Data Science 4.0)",
   "language": "python",
   "name": "python3__SAGEMAKER_INTERNAL__arn:aws:sagemaker:us-east-1:081325390199:image/sagemaker-data-science-311-v1"
  },
  "language_info": {
   "codemirror_mode": {
    "name": "ipython",
    "version": 3
   },
   "file_extension": ".py",
   "mimetype": "text/x-python",
   "name": "python",
   "nbconvert_exporter": "python",
   "pygments_lexer": "ipython3",
   "version": "3.11.9"
  }
 },
 "nbformat": 4,
 "nbformat_minor": 5
}
