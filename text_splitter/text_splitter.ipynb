{
 "cells": [
  {
   "cell_type": "code",
   "execution_count": 78,
   "metadata": {},
   "outputs": [],
   "source": [
    "# ! pip install langchain_experimental"
   ]
  },
  {
   "cell_type": "code",
   "execution_count": null,
   "metadata": {},
   "outputs": [],
   "source": [
    "# Process of breaking large text into smaller chunks\n",
    "# overcoming the limitation of the token limit of the model\n",
    "# optimizing computational resources\n",
    "\n",
    "# better embedding\n",
    "# better semantic search \n",
    "# better summarization"
   ]
  },
  {
   "cell_type": "code",
   "execution_count": null,
   "metadata": {},
   "outputs": [],
   "source": [
    "# Lenght BAsed text splitting\n",
    "# very simple and fast\n",
    "# but not very accurate\n",
    "# not very good for long texts with different topics"
   ]
  },
  {
   "cell_type": "code",
   "execution_count": null,
   "metadata": {},
   "outputs": [],
   "source": [
    "# from langchain.text_splitter import RecursiveCharacterTextSplitter\n",
    "from langchain.text_splitter import CharacterTextSplitter, RecursiveCharacterTextSplitter, \n",
    "from langchain_community.document_loaders import PyPDFLoader"
   ]
  },
  {
   "cell_type": "code",
   "execution_count": 16,
   "metadata": {},
   "outputs": [],
   "source": [
    "text = \"123456789012345678901234567890123456789012345678901234567890123456789012345678901234567890\"\n",
    "\n",
    "loader = PyPDFLoader(\"data\\Sathwik_Bollepalli_Data_Analyst.pdf\")\n",
    "documents = loader.load()"
   ]
  },
  {
   "cell_type": "code",
   "execution_count": null,
   "metadata": {},
   "outputs": [],
   "source": [
    "splitter = CharacterTextSplitter(chunk_size=100, chunk_overlap=0, separator=\"\")"
   ]
  },
  {
   "cell_type": "code",
   "execution_count": 24,
   "metadata": {},
   "outputs": [],
   "source": [
    "result = splitter.split_documents(documents)"
   ]
  },
  {
   "cell_type": "code",
   "execution_count": 27,
   "metadata": {},
   "outputs": [
    {
     "data": {
      "text/plain": [
       "'Data Analyst with a strong foundation in data visualization, statistical analysis, and business inte'"
      ]
     },
     "execution_count": 27,
     "metadata": {},
     "output_type": "execute_result"
    }
   ],
   "source": [
    "result[1].page_content"
   ]
  },
  {
   "cell_type": "code",
   "execution_count": 32,
   "metadata": {},
   "outputs": [
    {
     "data": {
      "text/plain": [
       "53"
      ]
     },
     "execution_count": 32,
     "metadata": {},
     "output_type": "execute_result"
    }
   ],
   "source": [
    "len(result)"
   ]
  },
  {
   "cell_type": "code",
   "execution_count": null,
   "metadata": {},
   "outputs": [],
   "source": [
    "# Text Structure Based Splittinga"
   ]
  },
  {
   "cell_type": "code",
   "execution_count": 33,
   "metadata": {},
   "outputs": [],
   "source": [
    "new_text = \"\"\"\n",
    "The Indian Premier League (IPL) is a professional Twenty20 cricket league in India organised by the Board of Control for Cricket in India (BCCI).[1] \n",
    "Founded in 2007, the league features ten state or city-based franchise teams.[2] The IPL is the most popular and richest cricket league in the world and is held between March and May. \n",
    "\n",
    "It has an exclusive window in the ICC Future Tours Programme, resulting in fewer international cricket tours occurring during the IPL seasons.[3] \n",
    "It is also the most viewed sports competition in India, as per BARC.[4][5]\n",
    "\"\"\""
   ]
  },
  {
   "cell_type": "code",
   "execution_count": 52,
   "metadata": {},
   "outputs": [],
   "source": [
    "splitter = RecursiveCharacterTextSplitter(chunk_size=100, chunk_overlap=0, separators=[\"\\n\\n\", \"\\n\", \" \", \" \"])"
   ]
  },
  {
   "cell_type": "code",
   "execution_count": 53,
   "metadata": {},
   "outputs": [],
   "source": [
    "res = splitter.split_text(new_text)"
   ]
  },
  {
   "cell_type": "code",
   "execution_count": 55,
   "metadata": {},
   "outputs": [
    {
     "data": {
      "text/plain": [
       "['The Indian Premier League (IPL) is a professional Twenty20 cricket league in India organised by the',\n",
       " 'Board of Control for Cricket in India (BCCI).[1]',\n",
       " 'Founded in 2007, the league features ten state or city-based franchise teams.[2] The IPL is the',\n",
       " 'most popular and richest cricket league in the world and is held between March and May.',\n",
       " 'It has an exclusive window in the ICC Future Tours Programme, resulting in fewer international',\n",
       " 'cricket tours occurring during the IPL seasons.[3]',\n",
       " 'It is also the most viewed sports competition in India, as per BARC.[4][5]']"
      ]
     },
     "execution_count": 55,
     "metadata": {},
     "output_type": "execute_result"
    }
   ],
   "source": [
    "res"
   ]
  },
  {
   "cell_type": "code",
   "execution_count": 54,
   "metadata": {},
   "outputs": [
    {
     "data": {
      "text/plain": [
       "7"
      ]
     },
     "execution_count": 54,
     "metadata": {},
     "output_type": "execute_result"
    }
   ],
   "source": [
    "len(res)"
   ]
  },
  {
   "cell_type": "code",
   "execution_count": 58,
   "metadata": {},
   "outputs": [],
   "source": [
    "# Document Structure Based Splitting\n",
    "\n",
    "# for splitting non text based, eg: code, comments etc\n",
    "# we use recursive text splitters but with different separators"
   ]
  },
  {
   "cell_type": "code",
   "execution_count": 71,
   "metadata": {},
   "outputs": [],
   "source": [
    "splitter = RecursiveCharacterTextSplitter.from_language(\n",
    "    language=\"python\", \n",
    "    chunk_size=100, \n",
    "    chunk_overlap=0,\n",
    "    # separators=[\"\\n\\n\", \"\\n\", \" \", \" \"]\n",
    ")"
   ]
  },
  {
   "cell_type": "code",
   "execution_count": 72,
   "metadata": {},
   "outputs": [],
   "source": [
    "pyton_code = \"\"\" #generate some random python code\n",
    "import random\n",
    "import string\n",
    "import time\n",
    "import numpy as np\n",
    "import pandas as pd\n",
    "\n",
    "def random_string(length=10):\n",
    "   \n",
    "    letters = string.ascii_letters\n",
    "    return ''.join(random.choice(letters) for i in range(length))\n",
    "\n",
    "def random_code(length=10):\n",
    "    \n",
    "    letters = string.ascii_letters + string.digits + string.punctuation\n",
    "    return ''.join(random.choice(letters) for i in range(length)) \"\"\"\n",
    "\n",
    "\n",
    "\n"
   ]
  },
  {
   "cell_type": "code",
   "execution_count": 73,
   "metadata": {},
   "outputs": [],
   "source": [
    "res = splitter.split_text(pyton_code)"
   ]
  },
  {
   "cell_type": "code",
   "execution_count": 74,
   "metadata": {},
   "outputs": [
    {
     "data": {
      "text/plain": [
       "7"
      ]
     },
     "execution_count": 74,
     "metadata": {},
     "output_type": "execute_result"
    }
   ],
   "source": [
    "len(res)"
   ]
  },
  {
   "cell_type": "code",
   "execution_count": 84,
   "metadata": {},
   "outputs": [],
   "source": [
    "# Semantic meaning based splitting\n",
    "\n",
    "from langchain_experimental.text_splitter import SemanticChunker\n",
    "from langchain_openai import OpenAIEmbeddings\n"
   ]
  },
  {
   "cell_type": "code",
   "execution_count": 87,
   "metadata": {},
   "outputs": [],
   "source": [
    "splitter = SemanticChunker(OpenAIEmbeddings(), breakpoint_threshold_type=\"standard_deviation\", breakpoint_threshold_amount=1)"
   ]
  },
  {
   "cell_type": "code",
   "execution_count": 95,
   "metadata": {},
   "outputs": [],
   "source": [
    "mixed_text = \"\"\"India is a country in South Asia. It is the seventh-largest country by land area, the second-most populous country, and the most populous democracy in the world. Bounded by the Indian Ocean on the south, the Arabian Sea on the southwest, and the Bay of Bengal on the southeast, it shares land borders with Pakistan to the west; China, Nepal. IPL is the most popular and richest cricket league in the world and is held between March and May. It has an exclusive window in the ICC Future Tours Programme, resulting in fewer international cricket tours occurring during the IPL seasons. It is also the most viewed sports competition in India, as per BARC. Founded in 2007, the league features ten state or city-based franchise teams.\n",
    "corona virus is a virus that causes respiratory illness in humans. It is a member of the coronavirus family, which includes other viruses that cause illnesses such as the common cold and SARS. The virus was first identified in Wuhan, China, in December 2019 and has since spread to countries around the world. Symptoms of COVID-19 can range from mild to severe and may include fever, cough, and difficulty breathing. In severe cases, the virus can lead to pneumonia and organ failure, which can be fatal. Vaccines have been developed to help prevent the spread of the virus and reduce the severity of illness in those who do contract it.\n",
    "\"\"\""
   ]
  },
  {
   "cell_type": "code",
   "execution_count": 96,
   "metadata": {},
   "outputs": [],
   "source": [
    "res = splitter.split_text(mixed_text)"
   ]
  },
  {
   "cell_type": "code",
   "execution_count": 97,
   "metadata": {},
   "outputs": [
    {
     "data": {
      "text/plain": [
       "3"
      ]
     },
     "execution_count": 97,
     "metadata": {},
     "output_type": "execute_result"
    }
   ],
   "source": [
    "len(res)"
   ]
  },
  {
   "cell_type": "code",
   "execution_count": null,
   "metadata": {},
   "outputs": [],
   "source": []
  }
 ],
 "metadata": {
  "kernelspec": {
   "display_name": "Python 3",
   "language": "python",
   "name": "python3"
  },
  "language_info": {
   "codemirror_mode": {
    "name": "ipython",
    "version": 3
   },
   "file_extension": ".py",
   "mimetype": "text/x-python",
   "name": "python",
   "nbconvert_exporter": "python",
   "pygments_lexer": "ipython3",
   "version": "3.10.0"
  }
 },
 "nbformat": 4,
 "nbformat_minor": 2
}
