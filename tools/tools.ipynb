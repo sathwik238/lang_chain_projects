{
 "cells": [
  {
   "cell_type": "code",
   "execution_count": 12,
   "id": "8d85c162",
   "metadata": {},
   "outputs": [],
   "source": [
    "# pip install duckduckgo-search"
   ]
  },
  {
   "cell_type": "code",
   "execution_count": null,
   "id": "56144ee7",
   "metadata": {},
   "outputs": [],
   "source": []
  },
  {
   "cell_type": "markdown",
   "id": "71aac347",
   "metadata": {},
   "source": [
    "# BUilt IN Tools"
   ]
  },
  {
   "cell_type": "code",
   "execution_count": 13,
   "id": "2469c32a",
   "metadata": {},
   "outputs": [
    {
     "name": "stdout",
     "output_type": "stream",
     "text": [
      "Paris, city and capital of France, located along the Seine River, in the north-central part of the country. Paris is one of the world's most important and attractive cities, famed for its gastronomy, haute couture, painting, literature, and intellectual community. Learn more about Paris in this article. France, a country of northwestern Europe, is historically and culturally among the most important countries in the Western world. It has also played a highly significant role in international affairs for centuries. Its capital is Paris, one of the most important cultural and commercial centers in the world. Paris, the capital of France, is located in the north-central portion of the country. It constitutes one of the départements of the Île-de-France administrative region and is France's most important centre of commerce and culture. The city is home to the Eiffel Tower, one of the world's premier tourist attractions, which opened to the public on May 15, 1889. The four largest cities in France, in order of population, are Paris, Marseille, Lyon, and Toulouse. These cities are significant urban centers with distinct characteristics and regional influences. 4. Is Paris the largest city in France by land area? While Paris is the largest city in France by population, it's not the largest by land area. 11. How did France get its name? The name France comes from the Latin word \"Francia,\" which means \"land of the Franks.\" 12. What was the capital of France during WWII? During World War II, when France was under German occupation (1940-1944), the capital of France was Vichy, while Paris remained the main population and economic center. 13.\n"
     ]
    }
   ],
   "source": [
    "from langchain_community.tools import DuckDuckGoSearchRun\n",
    "\n",
    "search_tool = DuckDuckGoSearchRun()\n",
    "\n",
    "result = search_tool.invoke(\"What is the capital of France?\")\n",
    "\n",
    "print(result)"
   ]
  },
  {
   "cell_type": "code",
   "execution_count": 17,
   "id": "5e21681c",
   "metadata": {},
   "outputs": [
    {
     "name": "stdout",
     "output_type": "stream",
     "text": [
      "Executing command:\n",
      " whoami\n",
      "sathwiks_pc\\sathw\n",
      "\n"
     ]
    },
    {
     "name": "stderr",
     "output_type": "stream",
     "text": [
      "c:\\Users\\sathw\\Desktop\\ML\\LLM\\Lang Chain Campus X\\lang_chain_projects\\venv\\lib\\site-packages\\langchain_community\\tools\\shell\\tool.py:33: UserWarning: The shell tool has no safeguards by default. Use at your own risk.\n",
      "  warnings.warn(\n"
     ]
    }
   ],
   "source": [
    "from langchain_community.tools import ShellTool\n",
    "\n",
    "shell_tool = ShellTool()\n",
    "\n",
    "result = shell_tool.invoke(\"whoami\")\n",
    "print(result)"
   ]
  },
  {
   "cell_type": "code",
   "execution_count": null,
   "id": "93469085",
   "metadata": {},
   "outputs": [],
   "source": []
  },
  {
   "cell_type": "markdown",
   "id": "51000124",
   "metadata": {},
   "source": [
    "# Custom Tool"
   ]
  },
  {
   "cell_type": "code",
   "execution_count": 23,
   "id": "21b6d358",
   "metadata": {},
   "outputs": [],
   "source": [
    "from langchain_core.tools import tool"
   ]
  },
  {
   "cell_type": "code",
   "execution_count": 25,
   "id": "791acc29",
   "metadata": {},
   "outputs": [],
   "source": [
    "@tool\n",
    "def add(a: int, b: int) -> int:\n",
    "    \"\"\"Adds two numbers together.\"\"\"\n",
    "    return a + b"
   ]
  },
  {
   "cell_type": "code",
   "execution_count": 27,
   "id": "1c108ff1",
   "metadata": {},
   "outputs": [
    {
     "name": "stdout",
     "output_type": "stream",
     "text": [
      "5\n"
     ]
    }
   ],
   "source": [
    "result = add.invoke({\"a\":2, \"b\":3})\n",
    "print(result)"
   ]
  },
  {
   "cell_type": "code",
   "execution_count": 28,
   "id": "902c7885",
   "metadata": {},
   "outputs": [
    {
     "data": {
      "text/plain": [
       "'add'"
      ]
     },
     "execution_count": 28,
     "metadata": {},
     "output_type": "execute_result"
    }
   ],
   "source": [
    "add.name"
   ]
  },
  {
   "cell_type": "code",
   "execution_count": 29,
   "id": "6ba6aef0",
   "metadata": {},
   "outputs": [
    {
     "data": {
      "text/plain": [
       "'Adds two numbers together.'"
      ]
     },
     "execution_count": 29,
     "metadata": {},
     "output_type": "execute_result"
    }
   ],
   "source": [
    "add.description"
   ]
  },
  {
   "cell_type": "code",
   "execution_count": 32,
   "id": "e4e333c3",
   "metadata": {},
   "outputs": [
    {
     "data": {
      "text/plain": [
       "{'a': {'title': 'A', 'type': 'integer'},\n",
       " 'b': {'title': 'B', 'type': 'integer'}}"
      ]
     },
     "execution_count": 32,
     "metadata": {},
     "output_type": "execute_result"
    }
   ],
   "source": [
    "add.args"
   ]
  },
  {
   "cell_type": "code",
   "execution_count": 33,
   "id": "154d7ea6",
   "metadata": {},
   "outputs": [],
   "source": [
    "from langchain.tools import StructuredTool\n",
    "from pydantic import BaseModel, Field"
   ]
  },
  {
   "cell_type": "code",
   "execution_count": 34,
   "id": "c0ec093e",
   "metadata": {},
   "outputs": [],
   "source": [
    "class AddInput(BaseModel):\n",
    "    a: int = Field(description=\"First number to add\")\n",
    "    b: int = Field(description=\"Second number to add\")\n",
    "\n",
    "    "
   ]
  },
  {
   "cell_type": "code",
   "execution_count": 35,
   "id": "f3814c5f",
   "metadata": {},
   "outputs": [],
   "source": [
    "def add(a: int, b: int) -> int:\n",
    "    \"\"\"Adds two numbers together.\"\"\"\n",
    "    return a + b"
   ]
  },
  {
   "cell_type": "code",
   "execution_count": 37,
   "id": "49f9da1c",
   "metadata": {},
   "outputs": [],
   "source": [
    "add_tool = StructuredTool.from_function(\n",
    "    func=add,\n",
    "    args_schema=AddInput,\n",
    "    name=\"add\",\n",
    "    description=\"Adds two numbers together.\",\n",
    ")"
   ]
  },
  {
   "cell_type": "code",
   "execution_count": 41,
   "id": "c9991a32",
   "metadata": {},
   "outputs": [
    {
     "name": "stdout",
     "output_type": "stream",
     "text": [
      "3\n"
     ]
    }
   ],
   "source": [
    "result = add_tool.invoke({\"a\":1, \"b\":2})\n",
    "print(result)"
   ]
  },
  {
   "cell_type": "code",
   "execution_count": 42,
   "id": "8223493e",
   "metadata": {},
   "outputs": [],
   "source": [
    "from langchain.tools import BaseTool\n",
    "from typing import Type"
   ]
  },
  {
   "cell_type": "code",
   "execution_count": 43,
   "id": "ad252cfd",
   "metadata": {},
   "outputs": [],
   "source": [
    "class AddInput(BaseModel):\n",
    "    a: int = Field(description=\"First number to add\")\n",
    "    b: int = Field(description=\"Second number to add\")"
   ]
  },
  {
   "cell_type": "code",
   "execution_count": 44,
   "id": "f92d6193",
   "metadata": {},
   "outputs": [],
   "source": [
    "class add_tool(BaseTool):\n",
    "    name: str = \"add\"\n",
    "    description: str = \"Adds two numbers together.\"\n",
    "    args_schema: Type[BaseModel] = AddInput\n",
    "\n",
    "    def _run(self, a: int, b: int) -> int:\n",
    "        return a + b"
   ]
  },
  {
   "cell_type": "code",
   "execution_count": 46,
   "id": "65f2680a",
   "metadata": {},
   "outputs": [],
   "source": [
    "add_tool = add_tool() "
   ]
  },
  {
   "cell_type": "code",
   "execution_count": 47,
   "id": "c3407d97",
   "metadata": {},
   "outputs": [
    {
     "data": {
      "text/plain": [
       "3"
      ]
     },
     "execution_count": 47,
     "metadata": {},
     "output_type": "execute_result"
    }
   ],
   "source": [
    "add_tool.invoke({\"a\":1, \"b\":2})"
   ]
  },
  {
   "cell_type": "code",
   "execution_count": null,
   "id": "172de28c",
   "metadata": {},
   "outputs": [],
   "source": []
  }
 ],
 "metadata": {
  "kernelspec": {
   "display_name": "Python 3",
   "language": "python",
   "name": "python3"
  },
  "language_info": {
   "codemirror_mode": {
    "name": "ipython",
    "version": 3
   },
   "file_extension": ".py",
   "mimetype": "text/x-python",
   "name": "python",
   "nbconvert_exporter": "python",
   "pygments_lexer": "ipython3",
   "version": "3.10.0"
  }
 },
 "nbformat": 4,
 "nbformat_minor": 5
}
