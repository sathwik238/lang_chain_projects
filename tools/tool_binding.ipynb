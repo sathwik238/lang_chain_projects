{
 "cells": [
  {
   "cell_type": "code",
   "execution_count": 32,
   "id": "e90c0a09",
   "metadata": {},
   "outputs": [],
   "source": [
    "from dotenv import load_dotenv\n",
    "from langchain_openai import ChatOpenAI, OpenAIEmbeddings\n",
    "from langchain_google_genai import ChatGoogleGenerativeAI\n",
    "from langchain_huggingface import ChatHuggingFace, HuggingFaceEndpoint\n",
    "\n",
    "from youtube_transcript_api import YouTubeTranscriptApi, TranscriptsDisabled\n",
    "from langchain_text_splitters import RecursiveCharacterTextSplitter\n",
    "from langchain_community.vectorstores import FAISS\n",
    "from langchain_core.prompts import  PromptTemplate\n",
    "from langchain_core.output_parsers import StrOutputParser\n",
    "\n",
    "from langchain.schema.runnable import RunnableParallel, RunnableBranch, RunnableLambda, RunnablePassthrough\n",
    "\n",
    "from langchain_core.tools import tool\n",
    "\n",
    "from langchain_core.messages import SystemMessage, HumanMessage, AIMessage\n",
    "\n",
    "from langchain_core.tools import InjectedToolArg\n",
    "from typing import Annotated\n",
    "\n",
    "import os\n",
    "import requests\n",
    "\n",
    "load_dotenv()\n",
    "\n",
    "os.environ['OPENAI_API_KEY'] = os.getenv('OPENAI_API_KEY')\n",
    "os.environ['GROQ_API_KEY'] = os.getenv('GROQ_API_KEY')\n",
    "os.environ['HF_API_KEY'] = os.getenv('HF_API_KEY')\n"
   ]
  },
  {
   "cell_type": "code",
   "execution_count": 3,
   "id": "bf103ef3",
   "metadata": {},
   "outputs": [],
   "source": [
    "# create tool\n",
    "\n",
    "@tool\n",
    "def multply(a: int, b: int) -> int:\n",
    "    \"\"\"Multiplies two numbers.\"\"\"\n",
    "    return a + b"
   ]
  },
  {
   "cell_type": "code",
   "execution_count": 4,
   "id": "166a4601",
   "metadata": {},
   "outputs": [
    {
     "data": {
      "text/plain": [
       "7"
      ]
     },
     "execution_count": 4,
     "metadata": {},
     "output_type": "execute_result"
    }
   ],
   "source": [
    "multply.invoke({\"a\":3, \"b\":4}) # 12"
   ]
  },
  {
   "cell_type": "code",
   "execution_count": 5,
   "id": "77e6d113",
   "metadata": {},
   "outputs": [],
   "source": [
    "llm = ChatOpenAI(model=\"gpt-3.5-turbo\", temperature=0.0, max_tokens=1000)"
   ]
  },
  {
   "cell_type": "code",
   "execution_count": 6,
   "id": "321be2ab",
   "metadata": {},
   "outputs": [],
   "source": [
    "llm_with_tools = llm.bind_tools([multply])"
   ]
  },
  {
   "cell_type": "code",
   "execution_count": 7,
   "id": "fb9a5366",
   "metadata": {},
   "outputs": [
    {
     "data": {
      "text/plain": [
       "\"I'm here and ready to help! How can I assist you today?\""
      ]
     },
     "execution_count": 7,
     "metadata": {},
     "output_type": "execute_result"
    }
   ],
   "source": [
    "llm_with_tools.invoke(\"How are you\").content"
   ]
  },
  {
   "cell_type": "code",
   "execution_count": 8,
   "id": "d9ad4587",
   "metadata": {},
   "outputs": [],
   "source": [
    "query = HumanMessage(\"multiply 3 with 10\")\n"
   ]
  },
  {
   "cell_type": "code",
   "execution_count": 9,
   "id": "b5fc622f",
   "metadata": {},
   "outputs": [],
   "source": [
    "messages = [query]"
   ]
  },
  {
   "cell_type": "code",
   "execution_count": 10,
   "id": "f1f2302e",
   "metadata": {},
   "outputs": [
    {
     "data": {
      "text/plain": [
       "[HumanMessage(content='multiply 3 with 10', additional_kwargs={}, response_metadata={})]"
      ]
     },
     "execution_count": 10,
     "metadata": {},
     "output_type": "execute_result"
    }
   ],
   "source": [
    "messages"
   ]
  },
  {
   "cell_type": "code",
   "execution_count": 11,
   "id": "5856a34b",
   "metadata": {},
   "outputs": [],
   "source": [
    "result = llm_with_tools.invoke(messages)"
   ]
  },
  {
   "cell_type": "code",
   "execution_count": 12,
   "id": "7ee4b81b",
   "metadata": {},
   "outputs": [
    {
     "data": {
      "text/plain": [
       "[HumanMessage(content='multiply 3 with 10', additional_kwargs={}, response_metadata={}),\n",
       " AIMessage(content='', additional_kwargs={'tool_calls': [{'id': 'call_CSR625rFV5uEt7P3O3NxR68A', 'function': {'arguments': '{\"a\":3,\"b\":10}', 'name': 'multply'}, 'type': 'function'}], 'refusal': None}, response_metadata={'token_usage': {'completion_tokens': 19, 'prompt_tokens': 53, 'total_tokens': 72, 'completion_tokens_details': {'accepted_prediction_tokens': 0, 'audio_tokens': 0, 'reasoning_tokens': 0, 'rejected_prediction_tokens': 0}, 'prompt_tokens_details': {'audio_tokens': 0, 'cached_tokens': 0}}, 'model_name': 'gpt-3.5-turbo-0125', 'system_fingerprint': None, 'finish_reason': 'tool_calls', 'logprobs': None}, id='run-e6d9db58-f093-459d-a589-a2da6ed67881-0', tool_calls=[{'name': 'multply', 'args': {'a': 3, 'b': 10}, 'id': 'call_CSR625rFV5uEt7P3O3NxR68A', 'type': 'tool_call'}], usage_metadata={'input_tokens': 53, 'output_tokens': 19, 'total_tokens': 72, 'input_token_details': {'audio': 0, 'cache_read': 0}, 'output_token_details': {'audio': 0, 'reasoning': 0}})]"
      ]
     },
     "execution_count": 12,
     "metadata": {},
     "output_type": "execute_result"
    }
   ],
   "source": [
    "messages.append(result)\n",
    "messages "
   ]
  },
  {
   "cell_type": "code",
   "execution_count": 13,
   "id": "04a1954a",
   "metadata": {},
   "outputs": [
    {
     "data": {
      "text/plain": [
       "{'name': 'multply',\n",
       " 'args': {'a': 3, 'b': 10},\n",
       " 'id': 'call_CSR625rFV5uEt7P3O3NxR68A',\n",
       " 'type': 'tool_call'}"
      ]
     },
     "execution_count": 13,
     "metadata": {},
     "output_type": "execute_result"
    }
   ],
   "source": [
    "result.tool_calls[0]"
   ]
  },
  {
   "cell_type": "code",
   "execution_count": 14,
   "id": "9af188fa",
   "metadata": {},
   "outputs": [
    {
     "data": {
      "text/plain": [
       "{'a': 3, 'b': 10}"
      ]
     },
     "execution_count": 14,
     "metadata": {},
     "output_type": "execute_result"
    }
   ],
   "source": [
    "result.tool_calls[0]['args']"
   ]
  },
  {
   "cell_type": "code",
   "execution_count": 15,
   "id": "6fe689cb",
   "metadata": {},
   "outputs": [],
   "source": [
    "tool_result = multply.invoke(result.tool_calls[0]['args'])"
   ]
  },
  {
   "cell_type": "code",
   "execution_count": 16,
   "id": "1d553539",
   "metadata": {},
   "outputs": [
    {
     "data": {
      "text/plain": [
       "13"
      ]
     },
     "execution_count": 16,
     "metadata": {},
     "output_type": "execute_result"
    }
   ],
   "source": [
    "tool_result"
   ]
  },
  {
   "cell_type": "code",
   "execution_count": 17,
   "id": "7f991099",
   "metadata": {},
   "outputs": [],
   "source": [
    "messages.append(tool_result)"
   ]
  },
  {
   "cell_type": "code",
   "execution_count": 18,
   "id": "cae381f4",
   "metadata": {},
   "outputs": [
    {
     "data": {
      "text/plain": [
       "[HumanMessage(content='multiply 3 with 10', additional_kwargs={}, response_metadata={}),\n",
       " AIMessage(content='', additional_kwargs={'tool_calls': [{'id': 'call_CSR625rFV5uEt7P3O3NxR68A', 'function': {'arguments': '{\"a\":3,\"b\":10}', 'name': 'multply'}, 'type': 'function'}], 'refusal': None}, response_metadata={'token_usage': {'completion_tokens': 19, 'prompt_tokens': 53, 'total_tokens': 72, 'completion_tokens_details': {'accepted_prediction_tokens': 0, 'audio_tokens': 0, 'reasoning_tokens': 0, 'rejected_prediction_tokens': 0}, 'prompt_tokens_details': {'audio_tokens': 0, 'cached_tokens': 0}}, 'model_name': 'gpt-3.5-turbo-0125', 'system_fingerprint': None, 'finish_reason': 'tool_calls', 'logprobs': None}, id='run-e6d9db58-f093-459d-a589-a2da6ed67881-0', tool_calls=[{'name': 'multply', 'args': {'a': 3, 'b': 10}, 'id': 'call_CSR625rFV5uEt7P3O3NxR68A', 'type': 'tool_call'}], usage_metadata={'input_tokens': 53, 'output_tokens': 19, 'total_tokens': 72, 'input_token_details': {'audio': 0, 'cache_read': 0}, 'output_token_details': {'audio': 0, 'reasoning': 0}}),\n",
       " 13]"
      ]
     },
     "execution_count": 18,
     "metadata": {},
     "output_type": "execute_result"
    }
   ],
   "source": [
    "messages"
   ]
  },
  {
   "cell_type": "code",
   "execution_count": null,
   "id": "a5431295",
   "metadata": {},
   "outputs": [],
   "source": []
  },
  {
   "cell_type": "code",
   "execution_count": 19,
   "id": "90ee6859",
   "metadata": {},
   "outputs": [],
   "source": [
    "# Currency Conversion Tool\n"
   ]
  },
  {
   "cell_type": "code",
   "execution_count": 68,
   "id": "0c6a940e",
   "metadata": {},
   "outputs": [],
   "source": [
    "@tool\n",
    "def get_conversion_rate(from_currency: str, to_currency: str) -> float:\n",
    "    \"\"\"Get the conversion rate from one currency to another.\"\"\"\n",
    "    url = f'https://v6.exchangerate-api.com/v6/c754eab14ffab33112e380ca/pair/{from_currency}/{to_currency}'\n",
    "\n",
    "    response = requests.get(url)\n",
    "    data = response.json()\n",
    "    return data"
   ]
  },
  {
   "cell_type": "code",
   "execution_count": 69,
   "id": "e69c76d7",
   "metadata": {},
   "outputs": [
    {
     "data": {
      "text/plain": [
       "{'result': 'success',\n",
       " 'documentation': 'https://www.exchangerate-api.com/docs',\n",
       " 'terms_of_use': 'https://www.exchangerate-api.com/terms',\n",
       " 'time_last_update_unix': 1745712001,\n",
       " 'time_last_update_utc': 'Sun, 27 Apr 2025 00:00:01 +0000',\n",
       " 'time_next_update_unix': 1745798401,\n",
       " 'time_next_update_utc': 'Mon, 28 Apr 2025 00:00:01 +0000',\n",
       " 'base_code': 'USD',\n",
       " 'target_code': 'INR',\n",
       " 'conversion_rate': 85.4301}"
      ]
     },
     "execution_count": 69,
     "metadata": {},
     "output_type": "execute_result"
    }
   ],
   "source": [
    "get_conversion_rate.invoke({\"from_currency\": \"USD\", \"to_currency\": \"INR\"})"
   ]
  },
  {
   "cell_type": "code",
   "execution_count": 70,
   "id": "6c579e5a",
   "metadata": {},
   "outputs": [],
   "source": [
    "@tool\n",
    "def convert_currency(base_currency_value: int, conversion_rate: Annotated[float,InjectedToolArg]) -> float:\n",
    "    \"\"\"Convert a currency value to another currency using the conversion rate.\"\"\"\n",
    "    return base_currency_value * conversion_rate\n"
   ]
  },
  {
   "cell_type": "code",
   "execution_count": 71,
   "id": "82a71ab3",
   "metadata": {},
   "outputs": [
    {
     "data": {
      "text/plain": [
       "8250.0"
      ]
     },
     "execution_count": 71,
     "metadata": {},
     "output_type": "execute_result"
    }
   ],
   "source": [
    "convert_currency.invoke({\"base_currency_value\": 100, \"conversion_rate\": 82.5}) # 8250.0"
   ]
  },
  {
   "cell_type": "code",
   "execution_count": 83,
   "id": "e80152ca",
   "metadata": {},
   "outputs": [],
   "source": [
    "llm = ChatOpenAI(model=\"gpt-3.5-turbo\", temperature=0.0, max_tokens=1000)\n",
    "llm_with_tools = llm.bind_tools([get_conversion_rate, convert_currency])"
   ]
  },
  {
   "cell_type": "code",
   "execution_count": 89,
   "id": "1f237034",
   "metadata": {},
   "outputs": [],
   "source": [
    "messages = [\n",
    "    HumanMessage(\"What is the conversion rate from USD to INR?, based on that can you convert 100 USD to INR\")\n",
    "    ]"
   ]
  },
  {
   "cell_type": "code",
   "execution_count": 90,
   "id": "1c3258a3",
   "metadata": {},
   "outputs": [],
   "source": [
    "ai_message= llm_with_tools.invoke(messages)"
   ]
  },
  {
   "cell_type": "code",
   "execution_count": 91,
   "id": "15f0c9f1",
   "metadata": {},
   "outputs": [],
   "source": [
    "messages.append(ai_message)"
   ]
  },
  {
   "cell_type": "code",
   "execution_count": 92,
   "id": "3003acc8",
   "metadata": {},
   "outputs": [
    {
     "data": {
      "text/plain": [
       "[{'name': 'get_conversion_rate',\n",
       "  'args': {'from_currency': 'USD', 'to_currency': 'INR'},\n",
       "  'id': 'call_DUWQaLXwhu43YLxTttAE0xOz',\n",
       "  'type': 'tool_call'}]"
      ]
     },
     "execution_count": 92,
     "metadata": {},
     "output_type": "execute_result"
    }
   ],
   "source": [
    "ai_message.tool_calls"
   ]
  },
  {
   "cell_type": "code",
   "execution_count": 64,
   "id": "6110eb2b",
   "metadata": {},
   "outputs": [
    {
     "name": "stdout",
     "output_type": "stream",
     "text": [
      "85.4301\n"
     ]
    }
   ],
   "source": [
    "import json\n",
    "for tool_call in ai_message.tool_calls:\n",
    "    # print(tool_call)\n",
    "    if tool_call['name'] == 'get_conversion_rate':\n",
    "        tool_message_1 = get_conversion_rate.invoke(tool_call)\n",
    "        print(json.loads(tool_message_1.content)['conversion_rate'])\n",
    "\n",
    "        messages.append(tool_message_1)\n",
    "\n",
    "    if tool_call['name'] == 'convert_currency':\n",
    "        tool_call['args']['conversion_rate'] = json.loads(tool_message_1.content)['conversion_rate']\n",
    "        tool_message_2 = convert_currency.invoke(tool_call)\n",
    "        messages.append(tool_message_2)\n",
    "    "
   ]
  },
  {
   "cell_type": "code",
   "execution_count": 65,
   "id": "c059d84e",
   "metadata": {},
   "outputs": [
    {
     "data": {
      "text/plain": [
       "[HumanMessage(content='What is the conversion rate from USD to INR?, based on that can you convert 100 USD to INR?', additional_kwargs={}, response_metadata={}),\n",
       " AIMessage(content='', additional_kwargs={'tool_calls': [{'id': 'call_BR5R2FCFAsMPxEXJodSfkxM7', 'function': {'arguments': '{\"from_currency\":\"USD\",\"to_currency\":\"INR\"}', 'name': 'get_conversion_rate'}, 'type': 'function'}], 'refusal': None}, response_metadata={'token_usage': {'completion_tokens': 23, 'prompt_tokens': 108, 'total_tokens': 131, 'completion_tokens_details': {'accepted_prediction_tokens': 0, 'audio_tokens': 0, 'reasoning_tokens': 0, 'rejected_prediction_tokens': 0}, 'prompt_tokens_details': {'audio_tokens': 0, 'cached_tokens': 0}}, 'model_name': 'gpt-3.5-turbo-0125', 'system_fingerprint': None, 'finish_reason': 'tool_calls', 'logprobs': None}, id='run-f5fa8428-214e-426f-8d99-8b1fe33bcc19-0', tool_calls=[{'name': 'get_conversion_rate', 'args': {'from_currency': 'USD', 'to_currency': 'INR'}, 'id': 'call_BR5R2FCFAsMPxEXJodSfkxM7', 'type': 'tool_call'}], usage_metadata={'input_tokens': 108, 'output_tokens': 23, 'total_tokens': 131, 'input_token_details': {'audio': 0, 'cache_read': 0}, 'output_token_details': {'audio': 0, 'reasoning': 0}}),\n",
       " ToolMessage(content='{\"result\": \"success\", \"documentation\": \"https://www.exchangerate-api.com/docs\", \"terms_of_use\": \"https://www.exchangerate-api.com/terms\", \"time_last_update_unix\": 1745712001, \"time_last_update_utc\": \"Sun, 27 Apr 2025 00:00:01 +0000\", \"time_next_update_unix\": 1745798401, \"time_next_update_utc\": \"Mon, 28 Apr 2025 00:00:01 +0000\", \"base_code\": \"USD\", \"target_code\": \"INR\", \"conversion_rate\": 85.4301}', name='get_conversion_rate', tool_call_id='call_BR5R2FCFAsMPxEXJodSfkxM7')]"
      ]
     },
     "execution_count": 65,
     "metadata": {},
     "output_type": "execute_result"
    }
   ],
   "source": [
    "messages"
   ]
  },
  {
   "cell_type": "code",
   "execution_count": null,
   "id": "a6863d1b",
   "metadata": {},
   "outputs": [],
   "source": []
  }
 ],
 "metadata": {
  "kernelspec": {
   "display_name": "Python 3",
   "language": "python",
   "name": "python3"
  },
  "language_info": {
   "codemirror_mode": {
    "name": "ipython",
    "version": 3
   },
   "file_extension": ".py",
   "mimetype": "text/x-python",
   "name": "python",
   "nbconvert_exporter": "python",
   "pygments_lexer": "ipython3",
   "version": "3.10.0"
  }
 },
 "nbformat": 4,
 "nbformat_minor": 5
}
