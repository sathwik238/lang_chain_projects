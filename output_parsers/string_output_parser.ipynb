{
 "cells": [
  {
   "cell_type": "code",
   "execution_count": 38,
   "metadata": {},
   "outputs": [],
   "source": [
    "from dotenv import load_dotenv\n",
    "from langchain_openai import ChatOpenAI\n",
    "from langchain_google_genai import ChatGoogleGenerativeAI\n",
    "from langchain_huggingface import ChatHuggingFace, HuggingFaceEndpoint\n",
    "\n",
    "from langchain_core.prompts import PromptTemplate\n",
    "from langchain_core.output_parsers import StrOutputParser\n",
    "import os\n",
    "\n",
    "load_dotenv('EnvVars.txt')\n",
    "\n",
    "os.environ['OPENAI_API_KEY'] = os.getenv('OPENAI_API_KEY')\n",
    "os.environ['GROQ_API_KEY'] = os.getenv('GROQ_API_KEY')\n",
    "os.environ['HF_API_KEY'] = os.getenv('HF_API_KEY')\n"
   ]
  },
  {
   "cell_type": "code",
   "execution_count": 24,
   "metadata": {},
   "outputs": [],
   "source": [
    "model = ChatOpenAI(model = 'gpt-4',temperature=0.2)"
   ]
  },
  {
   "cell_type": "code",
   "execution_count": 25,
   "metadata": {},
   "outputs": [],
   "source": [
    "template1 = PromptTemplate(\n",
    "    template = \"Write a detail report on {topic}\",\n",
    "    input_variables =  [\"topic\"]\n",
    "    )"
   ]
  },
  {
   "cell_type": "code",
   "execution_count": 43,
   "metadata": {},
   "outputs": [],
   "source": [
    "template2 = PromptTemplate(\n",
    "    template = \"Write a 5 line summary in point wise on the text {text}\",\n",
    "    input_variables =  [\"text\"]\n",
    "    )"
   ]
  },
  {
   "cell_type": "code",
   "execution_count": 44,
   "metadata": {},
   "outputs": [],
   "source": [
    "prompt1 = template1.invoke({\"topic\":\"The impact of climate change on the economy\"})"
   ]
  },
  {
   "cell_type": "code",
   "execution_count": 45,
   "metadata": {},
   "outputs": [],
   "source": [
    "result = model.invoke(prompt1)"
   ]
  },
  {
   "cell_type": "code",
   "execution_count": 46,
   "metadata": {},
   "outputs": [],
   "source": [
    "prompt2 = template2.invoke({\"text\":result.content})"
   ]
  },
  {
   "cell_type": "code",
   "execution_count": 47,
   "metadata": {},
   "outputs": [],
   "source": [
    "result1 = model.invoke(prompt2)"
   ]
  },
  {
   "cell_type": "code",
   "execution_count": 48,
   "metadata": {},
   "outputs": [
    {
     "name": "stdout",
     "output_type": "stream",
     "text": [
      "Title: The Impact of Climate Change on the Economy\n",
      "\n",
      "I. Introduction\n",
      "\n",
      "Climate change is a global issue that has far-reaching effects on various aspects of life, including the economy. The economic impacts of climate change are complex and multifaceted, affecting various sectors such as agriculture, energy, and tourism, among others. This report provides a detailed analysis of how climate change impacts the economy, focusing on the direct and indirect costs, the sectors most affected, and the potential long-term economic implications.\n",
      "\n",
      "II. Direct and Indirect Costs of Climate Change\n",
      "\n",
      "Direct costs of climate change are those that result from immediate impacts, such as damage to infrastructure from extreme weather events like hurricanes, floods, and wildfires. These costs can be substantial, requiring significant resources for repair and recovery. For instance, the U.S. National Oceanic and Atmospheric Administration reported that the total cost of weather and climate disasters in the U.S. exceeded $150 billion in 2020.\n",
      "\n",
      "Indirect costs, on the other hand, are those that result from changes in ecosystems and human health due to climate change. These include increased healthcare costs due to heat-related illnesses and vector-borne diseases, reduced agricultural productivity due to changing precipitation patterns and extreme weather events, and loss of biodiversity.\n",
      "\n",
      "III. Sectors Most Affected by Climate Change\n",
      "\n",
      "1. Agriculture: Climate change affects agriculture through changes in temperature, precipitation, and the frequency and intensity of extreme weather events. These changes can lead to reduced crop yields and livestock productivity, affecting food security and the livelihoods of those dependent on agriculture.\n",
      "\n",
      "2. Energy: Changes in temperature and precipitation patterns can affect energy production, particularly for hydropower and thermal power plants. Additionally, increased demand for cooling during hotter summers can strain energy systems and increase costs.\n",
      "\n",
      "3. Tourism: Many tourist destinations, particularly those dependent on natural resources (e.g., ski resorts, beach destinations), are vulnerable to climate change. Changes in temperature and precipitation can make these destinations less attractive, affecting local economies.\n",
      "\n",
      "IV. Long-term Economic Implications\n",
      "\n",
      "The long-term economic implications of climate change are significant. According to a study published in the journal Nature, unmitigated climate change could reduce global GDP by 7.22% by 2100. This reduction is due to a combination of factors, including reduced agricultural productivity, increased healthcare costs, and damage to infrastructure.\n",
      "\n",
      "Moreover, climate change can exacerbate economic inequality. Developing countries, which are often more dependent on climate-sensitive sectors like agriculture and have fewer resources to adapt to climate change, are likely to be disproportionately affected.\n",
      "\n",
      "V. Conclusion\n",
      "\n",
      "Climate change poses a significant threat to the global economy. Its impacts are already being felt across various sectors, and these are likely to intensify in the future without significant mitigation and adaptation efforts. Therefore, addressing climate change is not just an environmental issue, but also an economic imperative.\n"
     ]
    }
   ],
   "source": [
    "print(result.content)"
   ]
  },
  {
   "cell_type": "code",
   "execution_count": 49,
   "metadata": {},
   "outputs": [
    {
     "name": "stdout",
     "output_type": "stream",
     "text": [
      "1. Climate change has direct and indirect costs on the economy, including damage to infrastructure from extreme weather events and increased healthcare costs due to climate-related illnesses.\n",
      "2. Various sectors such as agriculture, energy, and tourism are significantly affected by climate change, leading to reduced productivity and increased costs.\n",
      "3. Long-term economic implications of climate change include a potential reduction in global GDP by 7.22% by 2100, as per a study published in the journal Nature.\n",
      "4. Climate change can exacerbate economic inequality, with developing countries that are more dependent on climate-sensitive sectors likely to be disproportionately affected.\n",
      "5. Addressing climate change is not just an environmental issue, but also an economic imperative, as its impacts are already being felt and are likely to intensify in the future.\n"
     ]
    }
   ],
   "source": [
    "print(result1.content)"
   ]
  },
  {
   "cell_type": "code",
   "execution_count": null,
   "metadata": {},
   "outputs": [],
   "source": []
  },
  {
   "cell_type": "markdown",
   "metadata": {},
   "source": [
    "## Using String Output Parser "
   ]
  },
  {
   "cell_type": "code",
   "execution_count": 50,
   "metadata": {},
   "outputs": [],
   "source": [
    "parser = StrOutputParser()"
   ]
  },
  {
   "cell_type": "code",
   "execution_count": 51,
   "metadata": {},
   "outputs": [],
   "source": [
    "chain = template1 | model | parser | template2 | model | parser"
   ]
  },
  {
   "cell_type": "code",
   "execution_count": 52,
   "metadata": {},
   "outputs": [],
   "source": [
    "final_result = chain.invoke({\"topic\":\"The impact of climate change on the economy\"})"
   ]
  },
  {
   "cell_type": "code",
   "execution_count": 53,
   "metadata": {},
   "outputs": [
    {
     "name": "stdout",
     "output_type": "stream",
     "text": [
      "1. Climate change significantly affects global economic structures, impacting sectors like agriculture, energy, and transportation.\n",
      "2. Changes in climate conditions can lead to reduced agricultural productivity, resulting in increased food prices and insecurity, with a potential 2% to 6% decrease in global crop yields by 2050.\n",
      "3. The energy sector is affected by changes in temperature and precipitation patterns, which can disrupt energy demand and infrastructure, leading to significant economic costs.\n",
      "4. The health sector can also suffer economic impacts due to increased prevalence of vector-borne diseases and injuries from extreme weather events, with estimated direct damage costs reaching $2-4 billion a year by 2030.\n",
      "5. Climate change can cause damage to infrastructure and transportation systems, leading to repair costs and disruptions, with developing countries being particularly vulnerable due to their climate-sensitive economies and fewer resources for adaptation.\n"
     ]
    }
   ],
   "source": [
    "print(final_result)"
   ]
  }
 ],
 "metadata": {
  "kernelspec": {
   "display_name": "Python 3",
   "language": "python",
   "name": "python3"
  },
  "language_info": {
   "codemirror_mode": {
    "name": "ipython",
    "version": 3
   },
   "file_extension": ".py",
   "mimetype": "text/x-python",
   "name": "python",
   "nbconvert_exporter": "python",
   "pygments_lexer": "ipython3",
   "version": "3.10.0"
  }
 },
 "nbformat": 4,
 "nbformat_minor": 2
}
