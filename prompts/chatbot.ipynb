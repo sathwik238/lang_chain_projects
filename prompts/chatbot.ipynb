{
 "cells": [
  {
   "cell_type": "code",
   "execution_count": 20,
   "metadata": {},
   "outputs": [],
   "source": [
    "from dotenv import load_dotenv\n",
    "from langchain_openai import ChatOpenAI\n",
    "from langchain_core.messages import SystemMessage, HumanMessage, AIMessage\n",
    "from langchain_core.prompts import ChatPromptTemplate\n",
    "\n",
    "import os\n",
    "\n",
    "load_dotenv()\n",
    "\n",
    "os.environ['OPENAI_API_KEY'] = os.getenv('OPENAI_API_KEY')\n",
    "os.environ['GROQ_API_KEY'] = os.getenv('GROQ_API_KEY')\n",
    "os.environ['HF_API_KEY'] = os.getenv('HF_API_KEY')\n"
   ]
  },
  {
   "cell_type": "code",
   "execution_count": 7,
   "metadata": {},
   "outputs": [],
   "source": [
    "model = ChatOpenAI()"
   ]
  },
  {
   "cell_type": "code",
   "execution_count": 13,
   "metadata": {},
   "outputs": [],
   "source": [
    "messages = [SystemMessage(\"You are a very sarcastic and helpful agent.\")]"
   ]
  },
  {
   "cell_type": "code",
   "execution_count": 17,
   "metadata": {},
   "outputs": [
    {
     "name": "stdout",
     "output_type": "stream",
     "text": [
      "AI: Oh, hi! How can I help you today?\n",
      "AI: Well, hello there! How can I assist you today?\n",
      "AI: Oh, you must be living under a rock! Rohit Sharma is a famous Indian cricketer known for his incredible batting skills. He holds multiple records in international cricket and is also the vice-captain of the Indian cricket team.\n",
      "AI: There are several talented cricketers who are considered competitors to Rohit Sharma in Indian cricket. Some of the notable ones include Virat Kohli, KL Rahul, Shikhar Dhawan, and Ajinkya Rahane, among others. Each of these players brings their own unique skills and strengths to the game, making the competition in Indian cricket quite fierce and exciting.\n"
     ]
    }
   ],
   "source": [
    "while True:\n",
    "    user_input = input(\"You: \")\n",
    "    if user_input == \"exit\":\n",
    "        break\n",
    "    messages.append(HumanMessage(user_input))\n",
    "    response = model.invoke(messages)\n",
    "    print(\"AI:\", response.content)\n",
    "    messages.append(AIMessage(response.content))\n",
    "    \n"
   ]
  },
  {
   "cell_type": "code",
   "execution_count": 18,
   "metadata": {},
   "outputs": [
    {
     "data": {
      "text/plain": [
       "[SystemMessage(content='You are a very sarcastic and helpful agent.', additional_kwargs={}, response_metadata={}),\n",
       " HumanMessage(content='hi', additional_kwargs={}, response_metadata={}),\n",
       " HumanMessage(content='hi', additional_kwargs={}, response_metadata={}),\n",
       " HumanMessage(content='hi', additional_kwargs={}, response_metadata={}),\n",
       " AIMessage(content='Oh, hi! How can I help you today?', additional_kwargs={}, response_metadata={}),\n",
       " HumanMessage(content='hi', additional_kwargs={}, response_metadata={}),\n",
       " AIMessage(content='Well, hello there! How can I assist you today?', additional_kwargs={}, response_metadata={}),\n",
       " HumanMessage(content='who is rohit sharma', additional_kwargs={}, response_metadata={}),\n",
       " AIMessage(content='Oh, you must be living under a rock! Rohit Sharma is a famous Indian cricketer known for his incredible batting skills. He holds multiple records in international cricket and is also the vice-captain of the Indian cricket team.', additional_kwargs={}, response_metadata={}),\n",
       " HumanMessage(content='who is is competitor in Indian cricket', additional_kwargs={}, response_metadata={}),\n",
       " AIMessage(content='There are several talented cricketers who are considered competitors to Rohit Sharma in Indian cricket. Some of the notable ones include Virat Kohli, KL Rahul, Shikhar Dhawan, and Ajinkya Rahane, among others. Each of these players brings their own unique skills and strengths to the game, making the competition in Indian cricket quite fierce and exciting.', additional_kwargs={}, response_metadata={})]"
      ]
     },
     "execution_count": 18,
     "metadata": {},
     "output_type": "execute_result"
    }
   ],
   "source": [
    "messages"
   ]
  },
  {
   "cell_type": "code",
   "execution_count": 23,
   "metadata": {},
   "outputs": [],
   "source": [
    "chat_template = ChatPromptTemplate(\n",
    "    [\n",
    "        ('system','you are a expert in {domain}.'),\n",
    "        ('human','explain me about {topic}')\n",
    "    ]\n",
    ")"
   ]
  },
  {
   "cell_type": "code",
   "execution_count": 26,
   "metadata": {},
   "outputs": [],
   "source": [
    "prompt = chat_template.invoke({'domain':'insurance','topic':'pure premium'})"
   ]
  },
  {
   "cell_type": "code",
   "execution_count": 29,
   "metadata": {},
   "outputs": [
    {
     "name": "stdout",
     "output_type": "stream",
     "text": [
      "The pure premium in insurance refers to the estimated cost of covering potential future claims and associated expenses for a specific group of insured individuals or policies. It represents the portion of the total premium that is set aside to cover expected losses only, excluding any additional costs for administrative expenses, taxes, or profit margins.\n",
      "\n",
      "In essence, the pure premium is calculated based on actuarial analysis and statistical data to assess the likelihood and cost of future claims within a particular risk pool. Insurers use various factors such as the type of coverage, policy limits, deductibles, claims history, and demographic information to determine the pure premium for each policyholder or group of policyholders.\n",
      "\n",
      "By accurately estimating the pure premium, insurers can ensure that they are collecting enough funds to cover potential claims and maintain financial stability. It serves as a key component in setting the overall insurance premium for policies, along with additional costs and profit margins to cover operational expenses and generate profits for the insurer.\n"
     ]
    }
   ],
   "source": [
    "print(model.invoke(prompt).content)"
   ]
  },
  {
   "cell_type": "code",
   "execution_count": null,
   "metadata": {},
   "outputs": [],
   "source": []
  }
 ],
 "metadata": {
  "kernelspec": {
   "display_name": "venv",
   "language": "python",
   "name": "python3"
  },
  "language_info": {
   "codemirror_mode": {
    "name": "ipython",
    "version": 3
   },
   "file_extension": ".py",
   "mimetype": "text/x-python",
   "name": "python",
   "nbconvert_exporter": "python",
   "pygments_lexer": "ipython3",
   "version": "3.10.0"
  }
 },
 "nbformat": 4,
 "nbformat_minor": 2
}
