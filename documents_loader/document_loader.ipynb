{
 "cells": [
  {
   "cell_type": "code",
   "execution_count": 54,
   "metadata": {},
   "outputs": [],
   "source": [
    "# ! pip install langchain_community\n",
    "# ! pip install pypdf\n",
    "# ! pip install bs4 requests"
   ]
  },
  {
   "cell_type": "code",
   "execution_count": 7,
   "metadata": {},
   "outputs": [],
   "source": [
    "from dotenv import load_dotenv\n",
    "from langchain_openai import ChatOpenAI\n",
    "from langchain_core.messages import SystemMessage, HumanMessage, AIMessage\n",
    "from langchain_core.prompts import ChatPromptTemplate, MessagesPlaceholder, PromptTemplate\n",
    "from langchain_core.output_parsers import StrOutputParser\n",
    "from langchain.schema.runnable import RunnableSequence\n",
    "\n",
    "\n",
    "import os\n",
    "\n",
    "load_dotenv()\n",
    "\n",
    "os.environ['OPENAI_API_KEY'] = os.getenv('OPENAI_API_KEY')\n",
    "os.environ['GROQ_API_KEY'] = os.getenv('GROQ_API_KEY')\n",
    "os.environ['HF_API_KEY'] = os.getenv('HF_API_KEY')\n",
    "\n",
    "\n",
    "\n",
    "from langchain_community.document_loaders import TextLoader\n"
   ]
  },
  {
   "cell_type": "code",
   "execution_count": 8,
   "metadata": {},
   "outputs": [],
   "source": [
    "loader  = TextLoader(\"data/cricket.txt\", encoding=\"utf-8\")"
   ]
  },
  {
   "cell_type": "code",
   "execution_count": 11,
   "metadata": {},
   "outputs": [],
   "source": [
    "docs = loader.load()"
   ]
  },
  {
   "cell_type": "code",
   "execution_count": 20,
   "metadata": {},
   "outputs": [
    {
     "name": "stdout",
     "output_type": "stream",
     "text": [
      "1\n",
      "<class 'langchain_core.documents.base.Document'>\n"
     ]
    }
   ],
   "source": [
    "print(len(docs))\n",
    "\n",
    "print(type(docs[0]))"
   ]
  },
  {
   "cell_type": "code",
   "execution_count": 23,
   "metadata": {},
   "outputs": [
    {
     "data": {
      "text/plain": [
       "'On the pitch where dreams take flight,\\nCricket’s spirit shines in golden light.\\nThe leather ball arcs through the air,\\nChasing glory, chasing dare.\\nBats meet ball in rhythmic sound,\\nWhere passion and precision are found.\\nUnder skies of endless blue,\\nEvery stroke feels fresh and new.\\nThe fielders sprint with hearts aflame,\\nPursuing victory, earning their name.\\nIn the silence before the bowler’s run,\\nHope glistens like the morning sun.\\nBoundaries drawn by will and might,\\nEach shot a story, pure delight.\\nCrowds rise in cheer from distant stands,\\nUnited by dreams in countless lands.\\nThe umpire’s call, a measured tone,\\nBalances justice, sets the tone.\\nField boundaries curve like art,\\nA canvas where courage takes part.\\nEvery run, every catch, every play,\\nWeaves the fabric of a glorious day.\\nIn cricket’s dance, time finds its pace,\\nThrough swift deliveries and a steady grace.\\nThe bat’s arc meets fate’s decree,\\nUniting hearts in shared ecstasy.\\nA bowler’s spin, a fielder’s chase,\\nReflects the endless pursuit of grace.\\nEchoes of legends whisper still,\\nInspiring new dreams with undying will.\\nThe sun sets as records are made,\\nIn the spirit of games that never fade.\\nFrom humble beginnings to celebrated lore,\\nCricket writes stories forevermore.\\nThe crack of the bat rings like a bell,\\nSummoning memories that hearts compel.\\nGrit and talent merge on the field,\\nWhere warriors and poets both yield.\\nA dance of strategy and raw desire,\\nIgnites the crowd, fuels the fire.\\nBetween each ball and every swing,\\nEchoes the hope that dreams can bring.\\nUnity thrives in each play and part,\\nBinding strangers in one beating heart.\\nSeasons change yet the game stays true,\\nHonoring legends and the brave few.\\nWith every match, a new chapter starts,\\nWritten in sweat, bound by hearts.\\nCricket’s tale is endless and grand,\\nA poem of life, written on the sand.\\nEvery moment shines with fierce grace,\\nEach play a victory in time and space.\\nIn the theater of field and sky,\\nDreams are lived and never die.\\nThe field’s green stage holds tales untold,\\nOf battles fought and spirits bold.\\nLegends rise with each daring stroke,\\nIn a game where passion is evoked.\\nThe echo of cheers fills the night,\\nA symphony of courage in pure delight.\\nCricket lives in every breath and beat,\\nA timeless dance where hearts compete.\\nIn every match, the soul takes wing,\\nA soaring ode to what life can bring.'"
      ]
     },
     "execution_count": 23,
     "metadata": {},
     "output_type": "execute_result"
    }
   ],
   "source": [
    "docs[0].page_content"
   ]
  },
  {
   "cell_type": "code",
   "execution_count": 24,
   "metadata": {},
   "outputs": [
    {
     "data": {
      "text/plain": [
       "{'source': 'data/cricket.txt'}"
      ]
     },
     "execution_count": 24,
     "metadata": {},
     "output_type": "execute_result"
    }
   ],
   "source": [
    "docs[0].metadata"
   ]
  },
  {
   "cell_type": "code",
   "execution_count": 25,
   "metadata": {},
   "outputs": [],
   "source": [
    "model = ChatOpenAI(\n",
    "    model=\"gpt-4\",\n",
    "    temperature=0,\n",
    "    openai_api_key=os.getenv('OPENAI_API_KEY'),\n",
    "    streaming=True,\n",
    "    verbose=True\n",
    ")"
   ]
  },
  {
   "cell_type": "code",
   "execution_count": 26,
   "metadata": {},
   "outputs": [],
   "source": [
    "prompt = PromptTemplate(\n",
    "    template=\"Summarize the poem :\\n{input}\",\n",
    "    input_variables=[\"input\"]\n",
    "\n",
    ")\n",
    "\n",
    "parser = StrOutputParser()"
   ]
  },
  {
   "cell_type": "code",
   "execution_count": 29,
   "metadata": {},
   "outputs": [
    {
     "data": {
      "text/plain": [
       "\"The poem is a tribute to the sport of cricket, celebrating its spirit, passion, and the unity it brings. It describes the thrill of the game, from the flight of the ball to the crack of the bat, and the anticipation before the bowler's run. The poem highlights the precision, strategy, and raw desire involved in the game, and how it ignites the crowd's excitement. It also emphasizes the unity that cricket brings, uniting strangers and honoring legends. The poem portrays cricket as a timeless dance, a poem of life, and a theater where dreams are lived and never die. It concludes by stating that cricket is a soaring ode to what life can bring.\""
      ]
     },
     "execution_count": 29,
     "metadata": {},
     "output_type": "execute_result"
    }
   ],
   "source": [
    "chain = prompt | model | parser\n",
    "chain.invoke({\"input\":docs[0].page_content})"
   ]
  },
  {
   "cell_type": "code",
   "execution_count": 32,
   "metadata": {},
   "outputs": [],
   "source": [
    "from langchain_community.document_loaders import PyPDFLoader"
   ]
  },
  {
   "cell_type": "code",
   "execution_count": 37,
   "metadata": {},
   "outputs": [],
   "source": [
    "loader = PyPDFLoader(\"data/Sathwik_Bollepalli_Data_Analyst.pdf\")"
   ]
  },
  {
   "cell_type": "code",
   "execution_count": 38,
   "metadata": {},
   "outputs": [],
   "source": [
    "document = loader.load()"
   ]
  },
  {
   "cell_type": "code",
   "execution_count": 43,
   "metadata": {},
   "outputs": [
    {
     "data": {
      "text/plain": [
       "{'producer': 'Microsoft® Word 2019',\n",
       " 'creator': 'Microsoft® Word 2019',\n",
       " 'creationdate': '2025-03-29T15:57:12-04:00',\n",
       " 'author': 'Sathwik Bollepalli',\n",
       " 'moddate': '2025-03-29T15:57:12-04:00',\n",
       " 'source': 'data/Sathwik_Bollepalli_Data_Analyst.pdf',\n",
       " 'total_pages': 1,\n",
       " 'page': 0,\n",
       " 'page_label': '1'}"
      ]
     },
     "execution_count": 43,
     "metadata": {},
     "output_type": "execute_result"
    }
   ],
   "source": [
    "document[0].metadata"
   ]
  },
  {
   "cell_type": "code",
   "execution_count": 42,
   "metadata": {},
   "outputs": [
    {
     "name": "stdout",
     "output_type": "stream",
     "text": [
      "Sathwik Bollepalli \n",
      "860-781-1558 | sathwik238@gmail.com | LinkedIn | Portfolio | GitHub \n",
      " \n",
      "SUMMARY \n",
      "Data Analyst with a strong foundation in data visualization, statistical analysis, and business intelligence. Proven track re cord of \n",
      "improving model accuracy by 15% and reducing data processing time by 70%. Skilled in Python, SQL, and Tableau, with a focus  on \n",
      "uncovering insights that support data-driven decisions and improve business performance. \n",
      " \n",
      "PROFESSIONAL EXPERIENCE \n",
      "Plymouth Rock Assurance - Boston, USA                                                                                     \n",
      "Data Scientist                                                                                                                                           May 2024 – December 2024 \n",
      "• Analyzed neighborhood-level property loss data and developed over 800 derived features to support risk segmentation and pricing \n",
      "analysis for home insurance. Built an XGBoost model to enhance risk segmentation and improve pricing accuracy.  \n",
      "• Conducted detailed exploratory data analysis (EDA) to uncover trends in claim severity across geographic regions, contributing to \n",
      "improved targeting of high-risk areas like flood zones and high-crime neighborhoods. \n",
      "• Applied resampling and adjustment techniques to analyze large-loss fire events in imbalanced datasets, improving the precision of \n",
      "high-risk segment identification and supporting underwriter recommendations. \n",
      "• Performed a coverage analysis of a new dataset within our six-state footprint to evaluate data completeness, identify regional gaps, \n",
      "and assess alignment with existing underwriting criteria. \n",
      "• Influenced key strategic decisions by delivering insights to senior management, resulting in the integration of two high -value third-\n",
      "party data sources, improving model performance and decision-making processes. \n",
      "  MAQ Software Pvt Ltd - Hyderabad, India \n",
      "  Reporting Analyst/ Data Engineer                                                                                                           May 2022 – August 2023 \n",
      "• Built Power BI dashboards from scratch, bringing together data from multiple sources to provide a clear, interactive view of key \n",
      "metrics across the organization which led to 35% increase in customer engagement. \n",
      "• Managed the entire data pipeline—from extracting raw data using Azure Data Factory to storing it in Azure Data Lake and \n",
      "preparing it for reporting. \n",
      "• Created meaningful metrics using SQL, helping teams better understand trends, track performance, and make faster decisions.  \n",
      "• Cleaned and merged data from different systems to ensure the dashboards told a consistent, accurate story across departments.  \n",
      "• Improved the speed and performance of dashboards by optimizing SQL queries with PySpark and Python, cutting load times and \n",
      "making reports more responsive. \n",
      "• Worked closely with stakeholders to understand reporting needs and turn them into practical solutions, leading to better adoption \n",
      "and more informed business conversations. \n",
      " \n",
      "EDUCATION \n",
      "University of Connecticut – Storrs, CT                                                                                        August 2023 - December 2024 \n",
      "   Master of Science (M.S) in Data Science, GPA : 3.7 \n",
      "Relevant Courses – Predictive Modeling, Machine Learning, Statistical Analysis, Causal Inference, Data Visualization, Deep Learning. \n",
      " \n",
      "ACADEMIC PROJECTS \n",
      "• Bank Customer Churn Prediction| R | ML – Utilized logistic regression, decision trees, and random forests for predictive \n",
      "analysis of customer churn in the banking sector, incorporating various performance metrics to identify high -risk customers, \n",
      "contributing to the development of effective retention strategies, showcasing skills in data analysis and problem-solving. \n",
      "• Email Spam Detection | Python | ML – Developed an advanced email spam detection system using Python and ML techniques, \n",
      "achieving 95% accuracy in classifying emails into 'spam' or 'ham'. Boosted data management and classification efficiency, \n",
      "enhancing workflow processes and minimizing false positives. \n",
      "• Energy Demand Forecasting| Python | Deep Learning – Developed an RNN-based energy demand forecasting model \n",
      "using weather data, leveraging Conv1D, LSTM layers, dropout, and activation functions in Keras. Achieved high \n",
      "accuracy with feature engineering, walk-forward validation, early stopping, and validated using mean absolute error. \n",
      " \n",
      "TECHNICAL SKILLS \n",
      "Python (Pandas, Keras, NumPy, PySpark, Scikit-learn, Matplotlib, Seaborn), SQL (MySQL, PostgreSQL, Snowflake), R, Data \n",
      "Analysis, Data Wrangling, ETL Pipelines, Data Visualization (Tableau, Power BI, Matplotlib, ggplot2), Statistical Modeling, A /B \n",
      "Testing, Hypothesis Testing, Bayesian Analysis, Transformers (BERT, GPT), Tableau, Microsoft Office Suite (Excel, PowerPoint, \n",
      "Word), Machine Learning (XGBoost, Random Forest, SVM, K-Means, KNN), Predictive Modeling, Deep Learning (CNN, RNN, \n",
      "LSTM), Negative Binomial Regression, Linear & Logistic Regression, AWS (S3, EC2, SageMaker), Azure (Data Factory, Databricks).  \n",
      " \n",
      "ACHIEVEMENTS AND CERTIFICATIONS \n",
      "• Modern Big Data Analysis with SQL Specialization \n",
      "• Google Data Analytics \n",
      "• Hacker Rank certified Python Programmer and Advanced SQL Programmer  \n",
      "• JP Morgan & Chase CADP Certification\n"
     ]
    }
   ],
   "source": [
    "print(document[0].page_content)"
   ]
  },
  {
   "cell_type": "code",
   "execution_count": 46,
   "metadata": {},
   "outputs": [],
   "source": [
    "from langchain_community.document_loaders import PyPDFLoader, DirectoryLoader\n"
   ]
  },
  {
   "cell_type": "code",
   "execution_count": 49,
   "metadata": {},
   "outputs": [
    {
     "name": "stdout",
     "output_type": "stream",
     "text": [
      "411\n"
     ]
    }
   ],
   "source": [
    "loader = DirectoryLoader(\"data\", glob=\"*.pdf\", loader_cls=PyPDFLoader)\n",
    "\n",
    "documents = loader.load() # laztload() if many documents\n",
    "print(len(documents))"
   ]
  },
  {
   "cell_type": "code",
   "execution_count": 50,
   "metadata": {},
   "outputs": [
    {
     "name": "stderr",
     "output_type": "stream",
     "text": [
      "USER_AGENT environment variable not set, consider setting it to identify your requests.\n"
     ]
    }
   ],
   "source": [
    "from langchain_community.document_loaders import WebBaseLoader"
   ]
  },
  {
   "cell_type": "code",
   "execution_count": 51,
   "metadata": {},
   "outputs": [],
   "source": [
    "url = \"https://www.flipkart.com/fastrack-optimus-pro-1-43-amoled-display-aod-466x466-functional-crown-bt-calling-smartwatch/p/itma4744c9053b72?pid=SMWGV3ZY9YJYEYEC&lid=LSTSMWGV3ZY9YJYEYECZN6QCW&marketplace=FLIPKART&store=ajy%2Fbuh&srno=b_1_3&otracker=browse&fm=organic&iid=b1aa2713-f664-4624-8205-3e4086973431.SMWGV3ZY9YJYEYEC.SEARCH&ppt=browse&ppn=browse&ssid=9o4vls2d400000001743300911351\"\n",
    "loader = WebBaseLoader(url)"
   ]
  },
  {
   "cell_type": "code",
   "execution_count": 55,
   "metadata": {},
   "outputs": [
    {
     "name": "stdout",
     "output_type": "stream",
     "text": [
      "  Fastrack Optimus Pro with 1.43 AMOLED Display & AOD(466x466),Functional Crown,BT Calling Smartwatch Price in India - Buy Fastrack Optimus Pro with 1.43 AMOLED Display & AOD(466x466),Functional Crown,BT Calling Smartwatch online at Flipkart.com        Explore PlusLoginBecome a Seller More CartAdd to cart Buy NowHomeWearable Smart DevicesSmart WatchesFastrack Smart WatchesFastrack Optimus Pro with 1.43 AMOLED Display & AOD(466x466),Functional Crown,BT Calling Smartwatch (Blue Strap, Free Size)\n",
      "CompareShareFastrack Optimus Pro with 1.43 AMOLED Display & AOD(466x466),Functional Crown,BT Calling Smartwatch  (Blue Strap, Free Size)4.331,364 Ratings & 2,006 ReviewsSpecial price₹2,299₹5,99561% offi+ ₹9 Protect Promise Fee Learn moreAvailable offersBank Offer5% Unlimited Cashback on Flipkart Axis Bank Credit CardT&CBank Offer10% instant discount on SBI Credit Card EMI Transactions, up to ₹1,500 on orders of ₹5,000 and aboveT&CBank Offer10% off up to ₹1000 on HDFC Bank Credit Card EMI on 6 months and above tenure. Min. Txn Value: ₹5000T&CSpecial PriceGet extra 61% off (price inclusive of cashback/coupon)T&CView 9 more offersBuy without Exchange₹2,299Buy with Exchangeup to ₹300 offEnter pincode to check if exchange is available1 Year Limited warrantyKnow MoreDeliveryCheckEnter pincodeCurrently out of stock in this area.Strap ColorBeigeBlackBlueGreenGreyGun BlackPlease select a Strap Color to proceed✕Display Size1.43 inch1.43 inch36.32 mm36.32 mmPlease select a Display Size to proceed✕Highlights1.43\" AMOLED Display with AOD and Industry Best 466 x 466 Pixel ResolutionFunctional Crown with Premium Body DesignSingleSync BT Calling with Favourite Contacts StorageAdvanced 100+ Sports Modes and Comprehensive 24x7 Health Suite with Auto Stress Monitor, Heart Rate Monitor, SpO2 and Sleep MonitorHandy Features like Calculator, AI Voice Assistant, In-Built Games, Music and Camera Control and 100+ Watchfaces and Up to 7 Days of Battery Life under Standard Conditions|Up to 3 Days of Battery Life with BT Calling onWith Call FunctionTouchscreenFitness & OutdoorServices1 Year Limited warrantySellerRetailNet4.77 Days Replacement Policy?GST invoice available?See other sellersDescriptionFastrack Optimus Pro with 1.43\" AMOLED Display with AOD and 466 x 466 Bright Pixel Resolution Premium Smartwatch|Functional Crown|SingleSync BT Calling|Extensive 24x7 Health Suite with Auto Stress Monitor|24x7 HRM|Sleep Monitor with REM|SpO2 and Breathe Exercise|100+ Sports Modes|Calculator|AI Voice Assistant|In-Built Games|IP68Read MoreSpecificationsGeneralSales PackageWatch, Charging Cable, Quick Start Guide, Warranty CardModel Number38087PP02Model NameOptimus Pro with 1.43 AMOLED Display & AOD(466x466),Functional Crown,BT CallingDial ShapeRoundStrap ColorBlueStrap MaterialSiliconeSizeFree SizeTouchscreenYesWater ResistantYesWater Resistance Depth1.5 mmUsageFitness & OutdoorDial MaterialPolycarbonateIdeal ForMen & WomenCompatible OSAndroid & iOSBrand Strap ColorBlueProduct DetailsClosureBuckleSensorHeart Rate &NotificationCall Notifications , Call Answer & Reject, Call Mute, Social Media Notifications, SMS Notifictaions, Other App NotificationNotification TypeRing and VibrationBattery TypeLithium PolymerCharge Time150 minBattery LifeUpto 5 DaysRechargeable BatteryYesCharger TypePogo Pin Charging CableOther FeaturesFastrack Optimus Pro with 1.43\" AMOLED Display with AOD and 466 x 466 Bright Pixel Resolution Premium Smartwatch|Functional Crown|SingleSync BT Calling|Extensive 24x7 Health Suite with Auto Stress Monitor|24x7 HRM|Sleep Monitor with REM|SpO2 and Breathe Exercise|100+ Sports Modes|Calculator|AI Voice Assistant|In-Built Games|IP68Connectivity FeaturesCall FunctionYesBluetoothYesWi-FiNoGPSNoMessaging SupportYesBluetooth Versionv5.2Operating Range10 mCall FeaturesCall Answer, Call Reject, Call Mute, Call Notifications, Quick Replies (Android)Camera And Display FeaturesDisplay Resolution466 x 466 PixelDisplay Size1.43 inchDisplay TypeAMOLEDBacklight DisplayYesScratch ResistantNoFitness And Watch FunctionsCalorie CountYesStep CountYesHeart Rate MonitorYesAltimeterNoOther Fitness FeaturesAuto Stress Monitor, 24*7 HRM, SpO2, Sleep Tracker, Women's Health, Activity Tracker, 100+ Multisports with Auto Multisport RecognitionDate & Time DisplayYesCompassNoCalendarNoAlarm ClockYesChronographNoLanguageEnglishNumber of Buttons2Audio And Video FeaturesSpeakerYesMicrophoneYesGesture ControlNoDimensionsWidth46.6 mmHeight46.6 mmThickness9.9 mmWeight41.8 gWarrantyWarranty Summary1 Year Limited warrantyWarranty Service Typecustomer care at 1800-266-0123Covered in WarrantyManufacturing DefectsNot Covered in WarrantyPhysical DamageRead MoreRatings & ReviewsRate Product4.3★31,364 Ratings &2,006 Reviews5★4★3★2★1★19,3757,2831,9707541,9824.2Battery & Charger4.3Display4.3Design4.0Activity Tracking+ 7445Just wow!Watch is good in quality, but fastback reflex world app lags, and watch disconnects many times.....Display (aod)... bestBuilt quality..OkkStrap quality...GoodAccuracy....okkCall quality...SuperbOverall good, if u r looking for branded budget smartwatch.READ MORERituparn SinghCertified Buyer, NagpurOct, 202342696PermalinkReport Abuse4Worth the moneyonly cons is plastic build quality.otherwise very good smartwatch at all aspectREAD MORESK AMJET UDDINCertified Buyer, ContaiOct, 2023506146PermalinkReport Abuse4DelightfulPerfectREAD MORERaju JanaCertified Buyer, Purba Medinipur DistrictFeb, 202420152PermalinkReport Abuse5TerrificI love it 🥰💕READ MOREPuja GaraiCertified Buyer, BankuraOct, 20239319PermalinkReport Abuse5Super!Product is value for money and comes with great features...Watch faces ar very cool...READ MOREArpan PalCertified Buyer, ChinchuriaFeb, 20246616PermalinkReport Abuse5Fabulous!Absolutely super quality smart watch. It's a Fastrack product with amoled display. Nice calling facility. Properly black colour. I really appreciate the item. Ok.READ MORESUMANTA CHATTERJEECertified Buyer, Hugli District6 months ago90PermalinkReport Abuse4Pretty goodI love this watch ⌚READ MORELaxman  ArugantiCertified Buyer, NaspurOct, 20239733PermalinkReport Abuse5BrilliantNice 🔥💯READ MORESudipta DasCertified Buyer, BadkullaOct, 20237722PermalinkReport Abuse5Super!Value for moneyREAD MORESayan chandra AkshayCertified Buyer, KolkataOct, 2023296PermalinkReport Abuse5Terrific purchaseMy fast smart watch I am very happy 😊 😃READ MOREPramod  Kumar Certified Buyer, MargaoDec, 202360PermalinkReport Abuse+All 2006 reviewsQuestions and AnswersQ:Noise or FastTrack which is best??A:FasTrackAnandha KrishnanCertified Buyer22068Report AbuseQ:Does it has WarrantyA:YesAnonymousCertified Buyer288Report AbuseQ:Is it for girls?A:It's for unisexAnonymousCertified Buyer2910Report AbuseQ:Watch ma game available hai kyaA:Yes all games are availablekanak KeshwaniCertified Buyer94Report AbuseQ:How many days it works in a full chargeA:1 weekAnonymousCertified Buyer82Report AbuseRead other answersQ:How many games in this watcjA:4Flipkart CustomerCertified Buyer40Report AbuseQ:This watch water proofA:It's ip68AnonymousCertified Buyer72Report AbuseQ:Body metallic or plastic ??A:Poly carbonateKVKRCertified Buyer96Report AbuseQ:Can we change out watch starpA:Yes...no problem at allSouvik SinghaCertified Buyer51Report AbuseQ:How days working \n",
      "Battery lifeA:2-3 days with AODAnandha KrishnanCertified Buyer74Report AbuseAll questions+Safe and Secure Payments.Easy returns.100% Authentic products.You might be interested inPower BanksMin. 50% OffShop NowWrist WatchesMin. 90% OffShop NowMen’s Sports ShoesMin. 70% OffShop NowWired EarphonesMin. 50% OffShop NowTop Stories:Brand DirectoryMOST SEARCHED IN Mobiles & Accessories:WATCH SERIESPC PRICESAMSUNG LED PRICE LISTJAWBONE UP3MI BAND SALEALL MOBILE PRICE LIST IN INDIASAMSUNG GEAR S PRICE IN INDIAGEAR S2FITNESS BANDSSAMSUNG TAB A PRICEAPPLE IWATCHINFLUXLG SMART WATCHMOTOROLA 360BEST SMART WATCHCAR TRACKING DEVICEANDROID MOBILE WATCHABOUTContact UsAbout UsCareersFlipkart StoriesPressCorporate InformationGROUP COMPANIESMyntraCleartripShopsyHELPPaymentsShippingCancellation & ReturnsFAQCONSUMER POLICYCancellation & ReturnsTerms Of UseSecurityPrivacySitemapGrievance RedressalEPR ComplianceMail Us:Flipkart Internet Private Limited, \n",
      " Buildings Alyssa, Begonia & \n",
      " Clove Embassy Tech Village, \n",
      " Outer Ring Road, Devarabeesanahalli Village, \n",
      " Bengaluru, 560103, \n",
      " Karnataka, India\n",
      "SocialRegistered Office Address:Flipkart Internet Private Limited, \n",
      " Buildings Alyssa, Begonia & \n",
      " Clove Embassy Tech Village, \n",
      " Outer Ring Road, Devarabeesanahalli Village, \n",
      " Bengaluru, 560103, \n",
      " Karnataka, India \n",
      " CIN : U51109KA2012PTC066107 \n",
      " Telephone: 044-45614700 / 044-67415800\n",
      "Become a SellerAdvertiseGift CardsHelp Center© 2007-2025 Flipkart.comBack to top   \n",
      " \n",
      "\n",
      "\n",
      "\n"
     ]
    }
   ],
   "source": [
    "docs = loader.load()\n",
    "print(docs[0].page_content)"
   ]
  },
  {
   "cell_type": "code",
   "execution_count": 56,
   "metadata": {},
   "outputs": [],
   "source": [
    "prompt = PromptTemplate(\n",
    "    template=\"Answer the following question {question} from the following text :\\n{text}\",\n",
    "    input_variables=[\"text\", \"question\"]\n",
    ")"
   ]
  },
  {
   "cell_type": "code",
   "execution_count": 57,
   "metadata": {},
   "outputs": [
    {
     "data": {
      "text/plain": [
       "'The price of the watch is ₹2,299.'"
      ]
     },
     "execution_count": 57,
     "metadata": {},
     "output_type": "execute_result"
    }
   ],
   "source": [
    "chain = prompt | model | parser\n",
    "chain.invoke({\"text\":docs[0].page_content, \"question\":\"What is the price of the watch?\"})"
   ]
  },
  {
   "cell_type": "code",
   "execution_count": 58,
   "metadata": {},
   "outputs": [],
   "source": [
    "from langchain_community.document_loaders import CSVLoader"
   ]
  },
  {
   "cell_type": "code",
   "execution_count": 69,
   "metadata": {},
   "outputs": [],
   "source": [
    "loader = CSVLoader(\"data/train.csv\")"
   ]
  },
  {
   "cell_type": "code",
   "execution_count": 70,
   "metadata": {},
   "outputs": [
    {
     "name": "stdout",
     "output_type": "stream",
     "text": [
      "381109\n"
     ]
    }
   ],
   "source": [
    "docs = loader.load()\n",
    "print(len(docs))"
   ]
  },
  {
   "cell_type": "code",
   "execution_count": 73,
   "metadata": {},
   "outputs": [
    {
     "name": "stdout",
     "output_type": "stream",
     "text": [
      "id: 1\n",
      "Gender: Male\n",
      "Age: 44\n",
      "Driving_License: 1\n",
      "Region_Code: 28.0\n",
      "Previously_Insured: 0\n",
      "Vehicle_Age: > 2 Years\n",
      "Vehicle_Damage: Yes\n",
      "Annual_Premium: 40454.0\n",
      "Policy_Sales_Channel: 26.0\n",
      "Vintage: 217\n",
      "Response: 1\n"
     ]
    }
   ],
   "source": [
    "print(docs[0].page_content)"
   ]
  },
  {
   "cell_type": "code",
   "execution_count": null,
   "metadata": {},
   "outputs": [],
   "source": []
  }
 ],
 "metadata": {
  "kernelspec": {
   "display_name": "Python 3",
   "language": "python",
   "name": "python3"
  },
  "language_info": {
   "codemirror_mode": {
    "name": "ipython",
    "version": 3
   },
   "file_extension": ".py",
   "mimetype": "text/x-python",
   "name": "python",
   "nbconvert_exporter": "python",
   "pygments_lexer": "ipython3",
   "version": "3.10.0"
  }
 },
 "nbformat": 4,
 "nbformat_minor": 2
}
