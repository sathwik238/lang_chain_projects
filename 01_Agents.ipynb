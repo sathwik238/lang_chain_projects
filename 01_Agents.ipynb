{
 "cells": [
  {
   "cell_type": "code",
   "execution_count": null,
   "id": "f3b0bf34",
   "metadata": {},
   "outputs": [],
   "source": [
    "from dotenv import load_dotenv\n",
    "from langchain_openai import ChatOpenAI, OpenAIEmbeddings\n",
    "from langchain_core.tools import tool\n",
    "import requests\n",
    "import os\n",
    "\n",
    "load_dotenv()\n",
    "\n",
    "os.environ['OPENAI_API_KEY'] = os.getenv('OPENAI_API_KEY')\n",
    "os.environ['GROQ_API_KEY'] = os.getenv('GROQ_API_KEY')\n",
    "os.environ['HF_API_KEY'] = os.getenv('HF_API_KEY')\n"
   ]
  },
  {
   "cell_type": "code",
   "execution_count": 7,
   "id": "f5950edd",
   "metadata": {},
   "outputs": [
    {
     "name": "stdout",
     "output_type": "stream",
     "text": [
      "Paris is the national capital of France and one of the world's most important and attractive cities. Learn about its geography, climate, culture, landmarks, and role in French history and politics. France, a country of northwestern Europe, is historically and culturally among the most important countries in the Western world. It has also played a highly significant role in international affairs for centuries. Its capital is Paris, one of the most important cultural and commercial centers in the world. Paris is the capital of France and its most important centre of commerce and culture. Learn about its history, geography, attractions, and famous people on Britannica.com. These dishes reflect France's rich culinary heritage. In conclusion, while other cities in France hold significant roles, Paris unequivocally stands as the largest city in capital, a center of French life, culture, and history. It is a city that combines its role as the nation's capital with the title of most populous urban area. Paris is the largest city in France, both in terms of population and urban area. 10. What was the first capital of France? The first capital of France was Paris. It has been the capital since the 10th century. 11. How did France get its name? The name France comes from the Latin word \"Francia,\" which means \"land of the Franks.\" 12.\n"
     ]
    }
   ],
   "source": [
    "from langchain_community.tools import DuckDuckGoSearchRun\n",
    "\n",
    "search_tool = DuckDuckGoSearchRun()\n",
    "\n",
    "result = search_tool.run(\"What is the capital of France?\")\n",
    "print(result)"
   ]
  },
  {
   "cell_type": "code",
   "execution_count": 9,
   "id": "44443204",
   "metadata": {},
   "outputs": [
    {
     "data": {
      "text/plain": [
       "AIMessage(content='The capital of France is Paris.', additional_kwargs={'refusal': None}, response_metadata={'token_usage': {'completion_tokens': 8, 'prompt_tokens': 14, 'total_tokens': 22, 'completion_tokens_details': {'accepted_prediction_tokens': 0, 'audio_tokens': 0, 'reasoning_tokens': 0, 'rejected_prediction_tokens': 0}, 'prompt_tokens_details': {'audio_tokens': 0, 'cached_tokens': 0}}, 'model_name': 'gpt-3.5-turbo-0125', 'system_fingerprint': None, 'finish_reason': 'stop', 'logprobs': None}, id='run-df54e229-acb1-4d8e-89c2-2665b42e04e9-0', usage_metadata={'input_tokens': 14, 'output_tokens': 8, 'total_tokens': 22, 'input_token_details': {'audio': 0, 'cache_read': 0}, 'output_token_details': {'audio': 0, 'reasoning': 0}})"
      ]
     },
     "execution_count": 9,
     "metadata": {},
     "output_type": "execute_result"
    }
   ],
   "source": [
    "llm = ChatOpenAI(model=\"gpt-3.5-turbo\", temperature=0.0)\n",
    "llm.invoke(\"What is the capital of France?\")"
   ]
  },
  {
   "cell_type": "code",
   "execution_count": 10,
   "id": "dc18c7c5",
   "metadata": {},
   "outputs": [],
   "source": [
    "from langchain.agents import create_react_agent, AgentExecutor\n",
    "from langchain import hub"
   ]
  },
  {
   "cell_type": "code",
   "execution_count": 11,
   "id": "33215501",
   "metadata": {},
   "outputs": [
    {
     "name": "stderr",
     "output_type": "stream",
     "text": [
      "c:\\Users\\sathw\\Desktop\\ML\\LLM\\Lang Chain Campus X\\lang_chain_projects\\venv\\lib\\site-packages\\langsmith\\client.py:253: LangSmithMissingAPIKeyWarning: API key must be provided when using hosted LangSmith API\n",
      "  warnings.warn(\n"
     ]
    }
   ],
   "source": [
    "prompt = hub.pull(\"hwchase17/react\")"
   ]
  },
  {
   "cell_type": "code",
   "execution_count": 13,
   "id": "7e4d0955",
   "metadata": {},
   "outputs": [],
   "source": [
    "agent = create_react_agent( llm =llm,prompt = prompt, tools=[search_tool])"
   ]
  },
  {
   "cell_type": "code",
   "execution_count": 14,
   "id": "c17953f5",
   "metadata": {},
   "outputs": [],
   "source": [
    "agent_executor = AgentExecutor(agent=agent, tools=[search_tool], verbose=True)"
   ]
  },
  {
   "cell_type": "code",
   "execution_count": 22,
   "id": "10e4ce38",
   "metadata": {},
   "outputs": [
    {
     "name": "stdout",
     "output_type": "stream",
     "text": [
      "\n",
      "\n",
      "\u001b[1m> Entering new AgentExecutor chain...\u001b[0m\n",
      "\u001b[32;1m\u001b[1;3mI should search for news articles about the Pahalgam attack to find out who is responsible.\n",
      "Action: duckduckgo_search\n",
      "Action Input: Pahalgam attack perpetrator\u001b[0m\u001b[36;1m\u001b[1;3mOne of the main perpetrators of the attack in Pahalgam, identified as Pakistani national Hashim Musa alias Suleiman, was active in Jammu and Kashmir for the last year and was likely involved in at ... One of the main attackers in the Pahalgam incident, a Pakistani national named Hashim Musa, also known as Suleiman, had been active in Jammu and Kashmir for the past year and was likely involved in at least three attacks on security forces and non-locals, Hindustan Times reported, citing officials. Musa is believed to be hiding in the higher reaches of the Pir Panjal range with four other ... Modi on Sunday said the \"perpetrators and conspirators\" of the Pahalgam attack will be \"served with the harshest response\". \"The whole world stands with 140 crore Indians in our fight against ... The houses of seven terrorists have so far been demolished since the April 22 Pahalgam terrorist attack that killed 26 civilians, including one foreign national. English Edition. हिन्दी (Hindi) ... News india Terrorists' Houses Blown Up In Big Crackdown As Govt Hunts For Pahalgam Attack Perpetrators. Read More. Advertisement. More ... One of the main perpetrators of the attack in Pahalgam, identified as Pakistani national Hashim Musa alias Suleiman, was active in Jammu and Kashmir for the last year and was likely involved in at ...\u001b[0m\u001b[32;1m\u001b[1;3mI need to gather more information to confirm the identity of the perpetrators.\n",
      "Action: duckduckgo_search\n",
      "Action Input: Pahalgam attack suspects\u001b[0m\u001b[36;1m\u001b[1;3mSecurity personnel inspect the site in the aftermath of an attack as food stall chairs lie empty in Pahalgam, about 90 km (55 miles) from Srinagar on April 23, 2025. Investigation intensifies into the Pahalgam attack. Authorities identified fifteen local Kashmiri overground workers as suspects. These individuals allegedly facilitated the Pakistani terrorists involved. Three suspects are in custody. Police are searching for two more. Over two hundred OGWs were detained for questioning. Security forces are combing the Pahalgam forests. They suspect the ... Sketches of suspect in the deadly terrorist attack of Jammu and Kashmir's Pahalgam were released by the security agencies on Wednesday, April 23, amid a massive manhunt to nab the perpetrators of ... Pahalgam massacre: Investigators on Wednesday (Apr 23) identified five terrorists involved in the deadly attack near Pahalgam that killed 26 people. The terrorists include three Pakistani nationals and two local operatives from Jammu and Kashmir who allegedly received training in Pakistan. Sketches of Pahalgam attack suspects. As per inputs from security officials, they have been identified as Asif Fauji, Suleman Shah and Abu Talha. ... Block at 6 pm to review the security situation and the Government of India's future course of action following the Pahalgam attack. The other members of the CCS include Defence Minister Rajnath ...\u001b[0m\u001b[32;1m\u001b[1;3mI should search for more details about the suspects to confirm their involvement in the attack.\n",
      "Action: duckduckgo_search\n",
      "Action Input: Pahalgam attack suspects details\u001b[0m\u001b[36;1m\u001b[1;3mSecurity personnel inspect the site in the aftermath of an attack as food stall chairs lie empty in Pahalgam, about 90 km (55 miles) from Srinagar on April 23, 2025. Pahalgam massacre: Investigators on Wednesday (Apr 23) identified five terrorists involved in the deadly attack near Pahalgam that killed 26 people. The terrorists include three Pakistani nationals and two local operatives from Jammu and Kashmir who allegedly received training in Pakistan. Security agencies on Wednesday released sketches of three suspected terrorists believed to be involved in the deadly attack on tourists in Pahalgam, Jammu and Kashmir, which claimed 28 lives. According to PTI report, which cited officials, the suspects have been identified as Asif Fauji, Suleman Shah, and Abu Talha.The identification was aided by survivor testimonies, who helped authorities ... Security agencies have released photographs of four suspected terrorists who were involved in the deadly Pahalgam attack that claimed 26 lives, mostly tourists from across the country. According to officials, one of the four suspects has already been eliminated during ongoing operations in the region. A week after a deadly terrorist attack in Pahalgam, the details of Hashim Musa, the Pakistani terrorist behind the Pahalgam attack, have emerged. ... Security officials suspect that Musa may have ...\u001b[0m\u001b[32;1m\u001b[1;3mI have gathered enough information to confirm the identities of the suspects involved in the Pahalgam attack.\n",
      "Final Answer: The main perpetrators of the Pahalgam attack are Pakistani national Hashim Musa alias Suleiman, along with three other Pakistani nationals and two local operatives from Jammu and Kashmir.\u001b[0m\n",
      "\n",
      "\u001b[1m> Finished chain.\u001b[0m\n",
      "{'input': 'who is reason foe pahalgham attack', 'output': 'The main perpetrators of the Pahalgam attack are Pakistani national Hashim Musa alias Suleiman, along with three other Pakistani nationals and two local operatives from Jammu and Kashmir.'}\n"
     ]
    }
   ],
   "source": [
    "response = agent_executor.invoke({\"input\":\"who is reason foe pahalgham attack\"})\n",
    "print(response)"
   ]
  },
  {
   "cell_type": "code",
   "execution_count": null,
   "id": "fe780e2a",
   "metadata": {},
   "outputs": [],
   "source": []
  }
 ],
 "metadata": {
  "kernelspec": {
   "display_name": "Python 3",
   "language": "python",
   "name": "python3"
  },
  "language_info": {
   "codemirror_mode": {
    "name": "ipython",
    "version": 3
   },
   "file_extension": ".py",
   "mimetype": "text/x-python",
   "name": "python",
   "nbconvert_exporter": "python",
   "pygments_lexer": "ipython3",
   "version": "3.10.0"
  }
 },
 "nbformat": 4,
 "nbformat_minor": 5
}
